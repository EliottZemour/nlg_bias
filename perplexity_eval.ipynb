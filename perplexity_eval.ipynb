{
 "cells": [
  {
   "cell_type": "code",
   "execution_count": 3,
   "id": "454e4561-97be-4611-9c89-7b6681746944",
   "metadata": {},
   "outputs": [],
   "source": [
    "import argparse\n",
    "import torch\n",
    "from torch.nn import CrossEntropyLoss\n",
    "from tqdm import tqdm\n",
    "import json\n",
    "\n",
    "from transformers import GPT2TokenizerFast, GPT2LMHeadModel\n",
    "from datasets import load_dataset\n",
    "from dexperts import DExperts"
   ]
  },
  {
   "cell_type": "code",
   "execution_count": 40,
   "id": "948fa552-f243-49ed-b60a-871b53b25d71",
   "metadata": {},
   "outputs": [],
   "source": [
    "stride = -1\n",
    "alpha = 1\n",
    "max_length = -1\n",
    "max_length_pattern = 32\n",
    "\n",
    "expert_model= \"gpt2\" #\"eliolio/gpt2-finetuned-gender-reddit-antibias\"\n",
    "antiexpert_model =\"eliolio/gpt2-finetuned-gender-redditbias\"\n",
    "base_model = \"gpt2\""
   ]
  },
  {
   "cell_type": "code",
   "execution_count": 41,
   "id": "645ec71c-2982-4462-84b8-b9a196ddbe25",
   "metadata": {},
   "outputs": [],
   "source": [
    " # instantiate dexperts\n",
    "dexperts = DExperts(\n",
    "    base_model=base_model,\n",
    "    expert_model=expert_model,\n",
    "    antiexpert_model=antiexpert_model,\n",
    "    tokenizer=base_model,\n",
    "    #mode=\"bayes\",\n",
    "    alpha=alpha,\n",
    ")\n",
    "device = dexperts.device\n"
   ]
  },
  {
   "cell_type": "code",
   "execution_count": 42,
   "id": "936e0f19-be33-4d2f-8cd8-0bf5e3cd62d2",
   "metadata": {},
   "outputs": [
    {
     "name": "stderr",
     "output_type": "stream",
     "text": [
      "Found cached dataset wikitext (/home/rloha/.cache/huggingface/datasets/wikitext/wikitext-2-v1/1.0.0/a241db52902eaf2c6aa732210bead40c090019a499ceb13bcbfa3f8ab646a126)\n",
      "Token indices sequence length is longer than the specified maximum sequence length for this model (297300 > 1024). Running this sequence through the model will result in indexing errors\n"
     ]
    }
   ],
   "source": [
    "# set up parameters\n",
    "max_length = (max_length if max_length > 0 else dexperts.base_model.config.n_positions) - max_length_pattern\n",
    "if stride <= 0:\n",
    "    stride = max_length\n",
    "\n",
    "# load dataset and tokenize\n",
    "data = load_dataset('wikitext', 'wikitext-2-v1', split='test')\n",
    "encodings = dexperts.tokenizer('\\n\\n'.join(data['text']), return_tensors='pt')\n"
   ]
  },
  {
   "cell_type": "code",
   "execution_count": 43,
   "id": "9f1413eb-5f4a-486e-9746-7c0811f15155",
   "metadata": {},
   "outputs": [
    {
     "name": "stderr",
     "output_type": "stream",
     "text": [
      "100%|██████████| 300/300 [00:33<00:00,  9.04it/s]"
     ]
    },
    {
     "name": "stdout",
     "output_type": "stream",
     "text": [
      "Final perplexity: 31.258176803588867\n"
     ]
    },
    {
     "name": "stderr",
     "output_type": "stream",
     "text": [
      "\n"
     ]
    }
   ],
   "source": [
    "# compute perplexity\n",
    "lls_regular = []\n",
    "ppl_regular = None\n",
    "\n",
    "for i in tqdm(range(0, encodings.input_ids.size(1), stride)):\n",
    "    # if i> 1:\n",
    "    #     break\n",
    "    begin_loc = max(i + stride - max_length, 0)\n",
    "    end_loc = min(i + stride, encodings.input_ids.size(1))\n",
    "    trg_len = end_loc - i  # may be different from stride on last loop\n",
    "    input_ids = encodings.input_ids[:, begin_loc:end_loc].to(device)\n",
    "    target_ids = input_ids.clone()\n",
    "    target_ids[:, :-trg_len] = -100\n",
    "\n",
    "    with torch.no_grad():\n",
    "        # loss_regular = compute_loss(input_ids, labels=target_ids)\n",
    "        logits = dexperts._get_logits(input_ids, alpha=alpha)\n",
    "        # print(logits.shape)\n",
    "        loss_regular = dexperts._get_perplexity(logits=logits, labels=target_ids, exp=False)\n",
    "        # print(loss_regular)\n",
    "        log_likelihood_regular = loss_regular * trg_len\n",
    "\n",
    "    lls_regular.append(log_likelihood_regular)\n",
    "\n",
    "    ppl_regular = torch.exp(torch.stack(lls_regular).sum() / end_loc)\n",
    "    # print(f'Perplexity after {i} tokens: {ppl_debiased} (debiased) vs {ppl_regular} (regular)')\n",
    "print(f'Final perplexity: {ppl_regular}')\n"
   ]
  },
  {
   "cell_type": "code",
   "execution_count": 12,
   "id": "3cada8a6-442e-4342-a28c-77f475d12482",
   "metadata": {},
   "outputs": [
    {
     "name": "stdout",
     "output_type": "stream",
     "text": [
      "[tensor(2513.4614, device='cuda:0'), tensor(3316.4771, device='cuda:0'), tensor(3302.8726, device='cuda:0'), tensor(3257.1699, device='cuda:0'), tensor(3437.2664, device='cuda:0'), tensor(3237.8562, device='cuda:0'), tensor(3044.6199, device='cuda:0'), tensor(3032.8552, device='cuda:0'), tensor(2996.7419, device='cuda:0'), tensor(3302.1304, device='cuda:0'), tensor(3100.5320, device='cuda:0'), tensor(2925.3425, device='cuda:0'), tensor(2634.7397, device='cuda:0'), tensor(2778.4956, device='cuda:0'), tensor(3099.8408, device='cuda:0'), tensor(3193.0193, device='cuda:0'), tensor(3283.3979, device='cuda:0'), tensor(3360.0923, device='cuda:0'), tensor(3401.8879, device='cuda:0'), tensor(3086.0149, device='cuda:0'), tensor(2946.4043, device='cuda:0'), tensor(3085.7773, device='cuda:0'), tensor(3135.2273, device='cuda:0'), tensor(3419.8213, device='cuda:0'), tensor(2921.2490, device='cuda:0'), tensor(3028.3242, device='cuda:0'), tensor(3128.8525, device='cuda:0'), tensor(3338.6680, device='cuda:0'), tensor(3132.3098, device='cuda:0'), tensor(3191.6389, device='cuda:0'), tensor(3063.6501, device='cuda:0'), tensor(3467.4883, device='cuda:0'), tensor(3573.9558, device='cuda:0'), tensor(3192.5840, device='cuda:0'), tensor(3008.4609, device='cuda:0'), tensor(3276.4797, device='cuda:0'), tensor(2981.3794, device='cuda:0'), tensor(2683.0715, device='cuda:0'), tensor(2750.4075, device='cuda:0'), tensor(2820.2188, device='cuda:0'), tensor(3216.0674, device='cuda:0'), tensor(3269.2590, device='cuda:0'), tensor(3510.2107, device='cuda:0'), tensor(3382.8311, device='cuda:0'), tensor(3104.8413, device='cuda:0'), tensor(3486.5378, device='cuda:0'), tensor(3410.2551, device='cuda:0'), tensor(3325.9768, device='cuda:0'), tensor(3474.7659, device='cuda:0'), tensor(3335.0901, device='cuda:0'), tensor(3568.3477, device='cuda:0'), tensor(3100.2419, device='cuda:0'), tensor(3055.5332, device='cuda:0'), tensor(3337.2725, device='cuda:0'), tensor(3445.0940, device='cuda:0'), tensor(3378.1248, device='cuda:0'), tensor(3043.6799, device='cuda:0'), tensor(3377.8772, device='cuda:0'), tensor(2925.1199, device='cuda:0'), tensor(2689.0945, device='cuda:0'), tensor(2891.4351, device='cuda:0'), tensor(2472.9504, device='cuda:0'), tensor(2616.3521, device='cuda:0'), tensor(2093.9814, device='cuda:0'), tensor(2453.4648, device='cuda:0'), tensor(2334.2244, device='cuda:0'), tensor(2934.9929, device='cuda:0'), tensor(2947.8860, device='cuda:0'), tensor(2652.8752, device='cuda:0'), tensor(2952.8938, device='cuda:0'), tensor(3221.2141, device='cuda:0'), tensor(2786.9060, device='cuda:0'), tensor(3333.8137, device='cuda:0'), tensor(2784.9043, device='cuda:0'), tensor(2486.6145, device='cuda:0'), tensor(2749.7988, device='cuda:0'), tensor(2704.9683, device='cuda:0'), tensor(2930.7063, device='cuda:0'), tensor(2497.9766, device='cuda:0'), tensor(2444.1040, device='cuda:0'), tensor(2625.4514, device='cuda:0'), tensor(2675.8733, device='cuda:0'), tensor(2884.9800, device='cuda:0'), tensor(3242.5039, device='cuda:0'), tensor(3338.9595, device='cuda:0'), tensor(3549.6982, device='cuda:0'), tensor(3548.6550, device='cuda:0'), tensor(3750.5083, device='cuda:0'), tensor(3476.0706, device='cuda:0'), tensor(3436.9626, device='cuda:0'), tensor(3117.4233, device='cuda:0'), tensor(3395.8318, device='cuda:0'), tensor(3177.3901, device='cuda:0'), tensor(3275.2341, device='cuda:0'), tensor(3150.6128, device='cuda:0'), tensor(3425.0886, device='cuda:0'), tensor(3285.0959, device='cuda:0'), tensor(3434.7820, device='cuda:0'), tensor(3292.1294, device='cuda:0'), tensor(2996.2266, device='cuda:0'), tensor(2828.8601, device='cuda:0'), tensor(3162.6245, device='cuda:0'), tensor(3062.2051, device='cuda:0'), tensor(2625.8582, device='cuda:0'), tensor(2348.5540, device='cuda:0'), tensor(3231.1875, device='cuda:0'), tensor(3039.4226, device='cuda:0'), tensor(2917.3091, device='cuda:0'), tensor(2899.4756, device='cuda:0'), tensor(2811.2039, device='cuda:0'), tensor(2899.4346, device='cuda:0'), tensor(2820.9912, device='cuda:0'), tensor(2971.3853, device='cuda:0'), tensor(2912.7358, device='cuda:0'), tensor(2484.8750, device='cuda:0'), tensor(2595.5615, device='cuda:0'), tensor(2987.4268, device='cuda:0'), tensor(2862.5898, device='cuda:0'), tensor(2942.1204, device='cuda:0'), tensor(2584.7981, device='cuda:0'), tensor(2869.1628, device='cuda:0'), tensor(2849.1428, device='cuda:0'), tensor(3385.5515, device='cuda:0'), tensor(3363.3435, device='cuda:0'), tensor(3201.5630, device='cuda:0'), tensor(3041.7114, device='cuda:0'), tensor(3007.6130, device='cuda:0'), tensor(3362.8057, device='cuda:0'), tensor(3090.1421, device='cuda:0'), tensor(3008.1021, device='cuda:0'), tensor(2495.3069, device='cuda:0'), tensor(2693.6621, device='cuda:0'), tensor(2747.1006, device='cuda:0'), tensor(2979.5886, device='cuda:0'), tensor(2829.3601, device='cuda:0'), tensor(2714.6226, device='cuda:0'), tensor(2634.6873, device='cuda:0'), tensor(2776.8398, device='cuda:0'), tensor(2819.9060, device='cuda:0'), tensor(2613.0615, device='cuda:0'), tensor(2758.4275, device='cuda:0'), tensor(2958.4788, device='cuda:0'), tensor(2748.7258, device='cuda:0'), tensor(2282.7192, device='cuda:0'), tensor(3102.9629, device='cuda:0'), tensor(2729.9583, device='cuda:0'), tensor(3091.9182, device='cuda:0'), tensor(3019.3118, device='cuda:0'), tensor(3180.3088, device='cuda:0'), tensor(3333.9536, device='cuda:0'), tensor(3314.2942, device='cuda:0'), tensor(3229.7339, device='cuda:0'), tensor(3067.3928, device='cuda:0'), tensor(2947.1147, device='cuda:0'), tensor(3356.3457, device='cuda:0'), tensor(3120.1899, device='cuda:0'), tensor(2946.8010, device='cuda:0'), tensor(3188.9363, device='cuda:0'), tensor(2888.2034, device='cuda:0'), tensor(3162.8953, device='cuda:0'), tensor(3135.3818, device='cuda:0'), tensor(2852.4126, device='cuda:0'), tensor(3202.9106, device='cuda:0'), tensor(3143.1609, device='cuda:0'), tensor(3358.2878, device='cuda:0'), tensor(3206.8562, device='cuda:0'), tensor(2785.4275, device='cuda:0'), tensor(2616.2419, device='cuda:0'), tensor(2666.1523, device='cuda:0'), tensor(2733.5312, device='cuda:0'), tensor(2755.6995, device='cuda:0'), tensor(3042.1296, device='cuda:0'), tensor(2635.8979, device='cuda:0'), tensor(2759.0906, device='cuda:0'), tensor(2960.3074, device='cuda:0'), tensor(3001.1189, device='cuda:0'), tensor(3019.1519, device='cuda:0'), tensor(2903.1475, device='cuda:0'), tensor(3239.0476, device='cuda:0'), tensor(2967.0591, device='cuda:0'), tensor(3392.4932, device='cuda:0'), tensor(3189.1987, device='cuda:0'), tensor(3237.3511, device='cuda:0'), tensor(3416.7598, device='cuda:0'), tensor(3416.1306, device='cuda:0'), tensor(3533.8867, device='cuda:0'), tensor(3694.2595, device='cuda:0'), tensor(3558.8298, device='cuda:0'), tensor(3591.0671, device='cuda:0'), tensor(3665.5886, device='cuda:0'), tensor(3374.7363, device='cuda:0'), tensor(3298.4111, device='cuda:0'), tensor(3419.0120, device='cuda:0'), tensor(3537.5608, device='cuda:0'), tensor(3420.2920, device='cuda:0'), tensor(3412.4683, device='cuda:0'), tensor(3151.3855, device='cuda:0'), tensor(3058.8931, device='cuda:0'), tensor(3414.9614, device='cuda:0'), tensor(3381.2593, device='cuda:0'), tensor(2992.0457, device='cuda:0'), tensor(3082.9158, device='cuda:0'), tensor(3195.3628, device='cuda:0'), tensor(3256.2632, device='cuda:0'), tensor(3132.2056, device='cuda:0'), tensor(2980.5303, device='cuda:0'), tensor(2655.0557, device='cuda:0'), tensor(3030.0417, device='cuda:0'), tensor(2810.9810, device='cuda:0'), tensor(3193.7395, device='cuda:0'), tensor(3017.3914, device='cuda:0'), tensor(2993.0774, device='cuda:0'), tensor(2855.4802, device='cuda:0'), tensor(3125.9062, device='cuda:0'), tensor(2764.8843, device='cuda:0'), tensor(2929.8557, device='cuda:0'), tensor(3075.0864, device='cuda:0'), tensor(3143.0710, device='cuda:0'), tensor(2992.8601, device='cuda:0'), tensor(3282.7412, device='cuda:0'), tensor(3121.8105, device='cuda:0'), tensor(3252.1279, device='cuda:0'), tensor(3113.8462, device='cuda:0'), tensor(2806.5613, device='cuda:0'), tensor(2961.2178, device='cuda:0'), tensor(2963.9031, device='cuda:0'), tensor(2979.8853, device='cuda:0'), tensor(3065.4834, device='cuda:0'), tensor(2795.0422, device='cuda:0'), tensor(2858.5496, device='cuda:0'), tensor(2806.5813, device='cuda:0'), tensor(2731.1819, device='cuda:0'), tensor(2578.6067, device='cuda:0'), tensor(2953.8286, device='cuda:0'), tensor(3181.0625, device='cuda:0'), tensor(3188.5061, device='cuda:0'), tensor(3042.8660, device='cuda:0'), tensor(3216.7839, device='cuda:0'), tensor(2965.2090, device='cuda:0'), tensor(3183.1138, device='cuda:0'), tensor(3190.7324, device='cuda:0'), tensor(3140.9255, device='cuda:0'), tensor(2923.0293, device='cuda:0'), tensor(3104.2302, device='cuda:0'), tensor(2868.3818, device='cuda:0'), tensor(2905.4492, device='cuda:0'), tensor(3524.1963, device='cuda:0'), tensor(2693.8691, device='cuda:0'), tensor(2851.8411, device='cuda:0'), tensor(2781.9241, device='cuda:0'), tensor(2662.3911, device='cuda:0'), tensor(2572.0095, device='cuda:0'), tensor(2569.1003, device='cuda:0'), tensor(2500.2329, device='cuda:0'), tensor(2786.3835, device='cuda:0'), tensor(2643.7427, device='cuda:0'), tensor(2759.8191, device='cuda:0'), tensor(2962.6719, device='cuda:0'), tensor(3436.6921, device='cuda:0'), tensor(3133.7905, device='cuda:0'), tensor(2980.8486, device='cuda:0'), tensor(3262.4209, device='cuda:0'), tensor(3170.2798, device='cuda:0'), tensor(2994.6047, device='cuda:0'), tensor(2948.3057, device='cuda:0'), tensor(3196.3447, device='cuda:0'), tensor(3022.8418, device='cuda:0'), tensor(2895.4746, device='cuda:0'), tensor(3138.3796, device='cuda:0'), tensor(3425.2793, device='cuda:0'), tensor(3147.6892, device='cuda:0'), tensor(2954.4092, device='cuda:0'), tensor(3235.5808, device='cuda:0'), tensor(3216.1260, device='cuda:0'), tensor(3094.0652, device='cuda:0'), tensor(3285.4324, device='cuda:0'), tensor(3407.0522, device='cuda:0'), tensor(2646.7810, device='cuda:0'), tensor(3241.5200, device='cuda:0'), tensor(3053.6526, device='cuda:0'), tensor(2563.6672, device='cuda:0'), tensor(3049.2385, device='cuda:0'), tensor(2307.7485, device='cuda:0'), tensor(1949.3787, device='cuda:0'), tensor(3328.1057, device='cuda:0'), tensor(3394.5071, device='cuda:0'), tensor(3327.6414, device='cuda:0'), tensor(3065.1311, device='cuda:0'), tensor(3580.3022, device='cuda:0'), tensor(3583.5042, device='cuda:0'), tensor(3071.7646, device='cuda:0'), tensor(2973.8481, device='cuda:0'), tensor(2984.2751, device='cuda:0'), tensor(3057.1050, device='cuda:0'), tensor(2905.6155, device='cuda:0'), tensor(3233.5769, device='cuda:0'), tensor(3301.4026, device='cuda:0'), tensor(3415.2725, device='cuda:0'), tensor(3225.1396, device='cuda:0'), tensor(2214.4170, device='cuda:0')]\n"
     ]
    }
   ],
   "source": [
    "print(lls_regular)"
   ]
  },
  {
   "cell_type": "code",
   "execution_count": 20,
   "id": "b3afab37-1cbd-4611-99ce-a158d30e9d68",
   "metadata": {},
   "outputs": [
    {
     "name": "stdout",
     "output_type": "stream",
     "text": [
      "[tensor(2731.6917, device='cuda:0'), tensor(3501.4373, device='cuda:0'), tensor(3532.4131, device='cuda:0'), tensor(3327.4648, device='cuda:0'), tensor(3649.6926, device='cuda:0'), tensor(3498.0073, device='cuda:0'), tensor(3157.0417, device='cuda:0'), tensor(3252.6921, device='cuda:0'), tensor(3258.8687, device='cuda:0'), tensor(3511.5161, device='cuda:0'), tensor(3319.7437, device='cuda:0'), tensor(3102.2749, device='cuda:0'), tensor(2891.4417, device='cuda:0'), tensor(3072.3645, device='cuda:0'), tensor(3420.9294, device='cuda:0'), tensor(3425.0815, device='cuda:0'), tensor(3513.1636, device='cuda:0'), tensor(3479.7429, device='cuda:0'), tensor(3504.3186, device='cuda:0'), tensor(3300.9475, device='cuda:0'), tensor(3145.4675, device='cuda:0'), tensor(3455.3909, device='cuda:0'), tensor(3378.4941, device='cuda:0'), tensor(3627.9788, device='cuda:0'), tensor(3000.5002, device='cuda:0'), tensor(3178.2737, device='cuda:0'), tensor(3319.1846, device='cuda:0'), tensor(3442.2812, device='cuda:0'), tensor(3284.5967, device='cuda:0'), tensor(3352.8149, device='cuda:0'), tensor(3281.5691, device='cuda:0'), tensor(3606.6992, device='cuda:0'), tensor(3703.2424, device='cuda:0'), tensor(3362.5347, device='cuda:0'), tensor(3253.8013, device='cuda:0'), tensor(3426.2478, device='cuda:0'), tensor(3198.3564, device='cuda:0'), tensor(2867.9939, device='cuda:0'), tensor(2944.3972, device='cuda:0'), tensor(3027.2734, device='cuda:0'), tensor(3345.2349, device='cuda:0'), tensor(3539.7034, device='cuda:0'), tensor(3576.4648, device='cuda:0'), tensor(3449.4858, device='cuda:0'), tensor(3223.8396, device='cuda:0'), tensor(3693.6365, device='cuda:0'), tensor(3593.7205, device='cuda:0'), tensor(3510.2407, device='cuda:0'), tensor(3716.3103, device='cuda:0'), tensor(3556.7241, device='cuda:0'), tensor(3726.2688, device='cuda:0'), tensor(3190.6907, device='cuda:0'), tensor(3324.0427, device='cuda:0'), tensor(3540.4800, device='cuda:0'), tensor(3536.3643, device='cuda:0'), tensor(3520.8184, device='cuda:0'), tensor(3245.5989, device='cuda:0'), tensor(3564.3257, device='cuda:0'), tensor(3095.7019, device='cuda:0'), tensor(2804.8877, device='cuda:0'), tensor(2956.7766, device='cuda:0'), tensor(2564.1995, device='cuda:0'), tensor(2719.9248, device='cuda:0'), tensor(2185.9558, device='cuda:0'), tensor(2526.8347, device='cuda:0'), tensor(2466.9907, device='cuda:0'), tensor(3090.1680, device='cuda:0'), tensor(3107.0498, device='cuda:0'), tensor(2842.7007, device='cuda:0'), tensor(3073.2673, device='cuda:0'), tensor(3464.8469, device='cuda:0'), tensor(2963.2776, device='cuda:0'), tensor(3543.3782, device='cuda:0'), tensor(2996.6650, device='cuda:0'), tensor(2709.5388, device='cuda:0'), tensor(2971.6782, device='cuda:0'), tensor(3012.2446, device='cuda:0'), tensor(3117.5537, device='cuda:0'), tensor(2784.5132, device='cuda:0'), tensor(2730.1555, device='cuda:0'), tensor(2911.2681, device='cuda:0'), tensor(2951.4041, device='cuda:0'), tensor(3067.9209, device='cuda:0'), tensor(3354.1118, device='cuda:0'), tensor(3552.4958, device='cuda:0'), tensor(3787.6130, device='cuda:0'), tensor(3700.9465, device='cuda:0'), tensor(3905.2236, device='cuda:0'), tensor(3685.8545, device='cuda:0'), tensor(3629.1282, device='cuda:0'), tensor(3356.5640, device='cuda:0'), tensor(3503.9675, device='cuda:0'), tensor(3447.8779, device='cuda:0'), tensor(3513.8755, device='cuda:0'), tensor(3412.5208, device='cuda:0'), tensor(3572.5359, device='cuda:0'), tensor(3493.5928, device='cuda:0'), tensor(3523.1765, device='cuda:0'), tensor(3440.2527, device='cuda:0'), tensor(3146.8564, device='cuda:0'), tensor(3043.1108, device='cuda:0'), tensor(3330.6226, device='cuda:0'), tensor(3189.9429, device='cuda:0'), tensor(2863.5066, device='cuda:0'), tensor(2559.4006, device='cuda:0'), tensor(3402.7998, device='cuda:0'), tensor(3168.0459, device='cuda:0'), tensor(3146.4751, device='cuda:0'), tensor(3173.1077, device='cuda:0'), tensor(3064.7527, device='cuda:0'), tensor(3116.8081, device='cuda:0'), tensor(3087.6997, device='cuda:0'), tensor(3229.3152, device='cuda:0'), tensor(3153.9905, device='cuda:0'), tensor(2776.9785, device='cuda:0'), tensor(2811.1953, device='cuda:0'), tensor(3192.8391, device='cuda:0'), tensor(3089.2000, device='cuda:0'), tensor(2976.2703, device='cuda:0'), tensor(2661.2737, device='cuda:0'), tensor(2848.2810, device='cuda:0'), tensor(2971.2307, device='cuda:0'), tensor(3535.7996, device='cuda:0'), tensor(3433.6038, device='cuda:0'), tensor(3363.0469, device='cuda:0'), tensor(3240.8696, device='cuda:0'), tensor(3118.4880, device='cuda:0'), tensor(3457.3000, device='cuda:0'), tensor(3221.8071, device='cuda:0'), tensor(3114.0327, device='cuda:0'), tensor(2665.5535, device='cuda:0'), tensor(2956.5876, device='cuda:0'), tensor(3006.9072, device='cuda:0'), tensor(3194.9612, device='cuda:0'), tensor(3009.1748, device='cuda:0'), tensor(2896.2686, device='cuda:0'), tensor(2839.1946, device='cuda:0'), tensor(2931.1807, device='cuda:0'), tensor(2936.6194, device='cuda:0'), tensor(2811.6252, device='cuda:0'), tensor(2932.7910, device='cuda:0'), tensor(3053.4873, device='cuda:0'), tensor(2911.6589, device='cuda:0'), tensor(2445.6287, device='cuda:0'), tensor(3250.4749, device='cuda:0'), tensor(2819.7397, device='cuda:0'), tensor(3322.5342, device='cuda:0'), tensor(3217.5715, device='cuda:0'), tensor(3378.2463, device='cuda:0'), tensor(3600.5271, device='cuda:0'), tensor(3581.3406, device='cuda:0'), tensor(3473.5271, device='cuda:0'), tensor(3339.1951, device='cuda:0'), tensor(3082.1501, device='cuda:0'), tensor(3539.1091, device='cuda:0'), tensor(3294.8523, device='cuda:0'), tensor(3066.5115, device='cuda:0'), tensor(3374.6526, device='cuda:0'), tensor(3115.6379, device='cuda:0'), tensor(3315.3909, device='cuda:0'), tensor(3348.7771, device='cuda:0'), tensor(3076.8809, device='cuda:0'), tensor(3463.8669, device='cuda:0'), tensor(3379.2605, device='cuda:0'), tensor(3530.4087, device='cuda:0'), tensor(3423.3638, device='cuda:0'), tensor(2950.5923, device='cuda:0'), tensor(2807.7444, device='cuda:0'), tensor(2882.1089, device='cuda:0'), tensor(2925.5310, device='cuda:0'), tensor(2927.2180, device='cuda:0'), tensor(3363.1267, device='cuda:0'), tensor(2844.6670, device='cuda:0'), tensor(3059.6624, device='cuda:0'), tensor(3137.1963, device='cuda:0'), tensor(3241.8806, device='cuda:0'), tensor(3269.4092, device='cuda:0'), tensor(3197.2708, device='cuda:0'), tensor(3428.0874, device='cuda:0'), tensor(3271.5754, device='cuda:0'), tensor(3497.4695, device='cuda:0'), tensor(3368.6494, device='cuda:0'), tensor(3421.3416, device='cuda:0'), tensor(3673.4331, device='cuda:0'), tensor(3671.4663, device='cuda:0'), tensor(3725.4009, device='cuda:0'), tensor(3817.8469, device='cuda:0'), tensor(3720.8418, device='cuda:0'), tensor(3702.8186, device='cuda:0'), tensor(3886.2522, device='cuda:0'), tensor(3710.8706, device='cuda:0'), tensor(3533.2749, device='cuda:0'), tensor(3604.8442, device='cuda:0'), tensor(3675.3501, device='cuda:0'), tensor(3592.7849, device='cuda:0'), tensor(3630.6389, device='cuda:0'), tensor(3378.5266, device='cuda:0'), tensor(3180.4641, device='cuda:0'), tensor(3697.9993, device='cuda:0'), tensor(3637.7109, device='cuda:0'), tensor(3237.9329, device='cuda:0'), tensor(3330.5469, device='cuda:0'), tensor(3352.6003, device='cuda:0'), tensor(3393.8806, device='cuda:0'), tensor(3276.1504, device='cuda:0'), tensor(3165.7810, device='cuda:0'), tensor(2727.0515, device='cuda:0'), tensor(3191.9631, device='cuda:0'), tensor(2853.5850, device='cuda:0'), tensor(3259.6406, device='cuda:0'), tensor(3146.3652, device='cuda:0'), tensor(3115.8767, device='cuda:0'), tensor(2993.0754, device='cuda:0'), tensor(3258.8833, device='cuda:0'), tensor(2956.7573, device='cuda:0'), tensor(2957.9971, device='cuda:0'), tensor(3182.5679, device='cuda:0'), tensor(3169.7700, device='cuda:0'), tensor(3043.6116, device='cuda:0'), tensor(3413.8772, device='cuda:0'), tensor(3197.9580, device='cuda:0'), tensor(3370.5881, device='cuda:0'), tensor(3328.8208, device='cuda:0'), tensor(2953.7249, device='cuda:0'), tensor(3129.3848, device='cuda:0'), tensor(3132.0544, device='cuda:0'), tensor(3108.9519, device='cuda:0'), tensor(3135.6470, device='cuda:0'), tensor(2967.1113, device='cuda:0'), tensor(2934.8491, device='cuda:0'), tensor(2988.9097, device='cuda:0'), tensor(2870.0068, device='cuda:0'), tensor(2779.7371, device='cuda:0'), tensor(3140.2534, device='cuda:0'), tensor(3277.2761, device='cuda:0'), tensor(3418.0615, device='cuda:0'), tensor(3210.3423, device='cuda:0'), tensor(3368.0007, device='cuda:0'), tensor(3156.9517, device='cuda:0'), tensor(3422.0964, device='cuda:0'), tensor(3372.1365, device='cuda:0'), tensor(3398.8223, device='cuda:0'), tensor(3083.3115, device='cuda:0'), tensor(3348.1985, device='cuda:0'), tensor(3049.3723, device='cuda:0'), tensor(3053.0820, device='cuda:0'), tensor(3676.5974, device='cuda:0'), tensor(2820.0105, device='cuda:0'), tensor(2960.1755, device='cuda:0'), tensor(2943.6736, device='cuda:0'), tensor(2785.7861, device='cuda:0'), tensor(2725.3533, device='cuda:0'), tensor(2681.9375, device='cuda:0'), tensor(2616.1841, device='cuda:0'), tensor(2931.3960, device='cuda:0'), tensor(2812.2476, device='cuda:0'), tensor(2905.8547, device='cuda:0'), tensor(3105.9897, device='cuda:0'), tensor(3689.4006, device='cuda:0'), tensor(3296.0122, device='cuda:0'), tensor(3124.0381, device='cuda:0'), tensor(3402.6392, device='cuda:0'), tensor(3381.0793, device='cuda:0'), tensor(3170.6355, device='cuda:0'), tensor(3146.3875, device='cuda:0'), tensor(3293.6592, device='cuda:0'), tensor(3229.2810, device='cuda:0'), tensor(3139.4175, device='cuda:0'), tensor(3299.3274, device='cuda:0'), tensor(3552.4419, device='cuda:0'), tensor(3330.9956, device='cuda:0'), tensor(3190.6167, device='cuda:0'), tensor(3435.9038, device='cuda:0'), tensor(3413.9902, device='cuda:0'), tensor(3311.8069, device='cuda:0'), tensor(3382.2544, device='cuda:0'), tensor(3586.3540, device='cuda:0'), tensor(2808.3567, device='cuda:0'), tensor(3370.6294, device='cuda:0'), tensor(3287.1389, device='cuda:0'), tensor(2817.8838, device='cuda:0'), tensor(3149.3525, device='cuda:0'), tensor(2502.9504, device='cuda:0'), tensor(2097.4771, device='cuda:0'), tensor(3531.1396, device='cuda:0'), tensor(3520.5012, device='cuda:0'), tensor(3512.3215, device='cuda:0'), tensor(3208.3335, device='cuda:0'), tensor(3770.0181, device='cuda:0'), tensor(3733.1714, device='cuda:0'), tensor(3216.5256, device='cuda:0'), tensor(3000.6899, device='cuda:0'), tensor(3078.4299, device='cuda:0'), tensor(3172.2754, device='cuda:0'), tensor(3096.1196, device='cuda:0'), tensor(3413.8525, device='cuda:0'), tensor(3455.1406, device='cuda:0'), tensor(3593.5427, device='cuda:0'), tensor(3477.8662, device='cuda:0'), tensor(2346.9473, device='cuda:0')]\n"
     ]
    }
   ],
   "source": [
    "print(lls_regular)"
   ]
  },
  {
   "cell_type": "code",
   "execution_count": 11,
   "id": "93daf9bb-d11c-44bb-aeb6-fc0268c9d7e8",
   "metadata": {},
   "outputs": [
    {
     "name": "stdout",
     "output_type": "stream",
     "text": [
      "[tensor(2731.6917, device='cuda:0'), tensor(3501.4373, device='cuda:0'), tensor(3532.4131, device='cuda:0'), tensor(3327.4648, device='cuda:0'), tensor(3649.6926, device='cuda:0'), tensor(3498.0073, device='cuda:0'), tensor(3157.0417, device='cuda:0'), tensor(3252.6921, device='cuda:0'), tensor(3258.8687, device='cuda:0'), tensor(3511.5161, device='cuda:0'), tensor(3319.7437, device='cuda:0'), tensor(3102.2749, device='cuda:0'), tensor(2891.4417, device='cuda:0'), tensor(3072.3645, device='cuda:0'), tensor(3420.9294, device='cuda:0'), tensor(3425.0815, device='cuda:0'), tensor(3513.1636, device='cuda:0'), tensor(3479.7429, device='cuda:0'), tensor(3504.3186, device='cuda:0'), tensor(3300.9475, device='cuda:0'), tensor(3145.4675, device='cuda:0'), tensor(3455.3909, device='cuda:0'), tensor(3378.4941, device='cuda:0'), tensor(3627.9788, device='cuda:0'), tensor(3000.5002, device='cuda:0'), tensor(3178.2737, device='cuda:0'), tensor(3319.1846, device='cuda:0'), tensor(3442.2812, device='cuda:0'), tensor(3284.5967, device='cuda:0'), tensor(3352.8149, device='cuda:0'), tensor(3281.5691, device='cuda:0'), tensor(3606.6992, device='cuda:0'), tensor(3703.2424, device='cuda:0'), tensor(3362.5347, device='cuda:0'), tensor(3253.8013, device='cuda:0'), tensor(3426.2478, device='cuda:0'), tensor(3198.3564, device='cuda:0'), tensor(2867.9939, device='cuda:0'), tensor(2944.3972, device='cuda:0'), tensor(3027.2734, device='cuda:0'), tensor(3345.2349, device='cuda:0'), tensor(3539.7034, device='cuda:0'), tensor(3576.4648, device='cuda:0'), tensor(3449.4858, device='cuda:0'), tensor(3223.8396, device='cuda:0'), tensor(3693.6365, device='cuda:0'), tensor(3593.7205, device='cuda:0'), tensor(3510.2407, device='cuda:0'), tensor(3716.3103, device='cuda:0'), tensor(3556.7241, device='cuda:0'), tensor(3726.2688, device='cuda:0'), tensor(3190.6907, device='cuda:0'), tensor(3324.0427, device='cuda:0'), tensor(3540.4800, device='cuda:0'), tensor(3536.3643, device='cuda:0'), tensor(3520.8184, device='cuda:0'), tensor(3245.5989, device='cuda:0'), tensor(3564.3257, device='cuda:0'), tensor(3095.7019, device='cuda:0'), tensor(2804.8877, device='cuda:0'), tensor(2956.7766, device='cuda:0'), tensor(2564.1995, device='cuda:0'), tensor(2719.9248, device='cuda:0'), tensor(2185.9558, device='cuda:0'), tensor(2526.8347, device='cuda:0'), tensor(2466.9907, device='cuda:0'), tensor(3090.1680, device='cuda:0'), tensor(3107.0498, device='cuda:0'), tensor(2842.7007, device='cuda:0'), tensor(3073.2673, device='cuda:0'), tensor(3464.8469, device='cuda:0'), tensor(2963.2776, device='cuda:0'), tensor(3543.3782, device='cuda:0'), tensor(2996.6650, device='cuda:0'), tensor(2709.5388, device='cuda:0'), tensor(2971.6782, device='cuda:0'), tensor(3012.2446, device='cuda:0'), tensor(3117.5537, device='cuda:0'), tensor(2784.5132, device='cuda:0'), tensor(2730.1555, device='cuda:0'), tensor(2911.2681, device='cuda:0'), tensor(2951.4041, device='cuda:0'), tensor(3067.9209, device='cuda:0'), tensor(3354.1118, device='cuda:0'), tensor(3552.4958, device='cuda:0'), tensor(3787.6130, device='cuda:0'), tensor(3700.9465, device='cuda:0'), tensor(3905.2236, device='cuda:0'), tensor(3685.8545, device='cuda:0'), tensor(3629.1282, device='cuda:0'), tensor(3356.5640, device='cuda:0'), tensor(3503.9675, device='cuda:0'), tensor(3447.8779, device='cuda:0'), tensor(3513.8755, device='cuda:0'), tensor(3412.5208, device='cuda:0'), tensor(3572.5359, device='cuda:0'), tensor(3493.5928, device='cuda:0'), tensor(3523.1765, device='cuda:0'), tensor(3440.2527, device='cuda:0'), tensor(3146.8564, device='cuda:0'), tensor(3043.1108, device='cuda:0'), tensor(3330.6226, device='cuda:0'), tensor(3189.9429, device='cuda:0'), tensor(2863.5066, device='cuda:0'), tensor(2559.4006, device='cuda:0'), tensor(3402.7998, device='cuda:0'), tensor(3168.0459, device='cuda:0'), tensor(3146.4751, device='cuda:0'), tensor(3173.1077, device='cuda:0'), tensor(3064.7527, device='cuda:0'), tensor(3116.8081, device='cuda:0'), tensor(3087.6997, device='cuda:0'), tensor(3229.3152, device='cuda:0'), tensor(3153.9905, device='cuda:0'), tensor(2776.9785, device='cuda:0'), tensor(2811.1953, device='cuda:0'), tensor(3192.8391, device='cuda:0'), tensor(3089.2000, device='cuda:0'), tensor(2976.2703, device='cuda:0'), tensor(2661.2737, device='cuda:0'), tensor(2848.2810, device='cuda:0'), tensor(2971.2307, device='cuda:0'), tensor(3535.7996, device='cuda:0'), tensor(3433.6038, device='cuda:0'), tensor(3363.0469, device='cuda:0'), tensor(3240.8696, device='cuda:0'), tensor(3118.4880, device='cuda:0'), tensor(3457.3000, device='cuda:0'), tensor(3221.8071, device='cuda:0'), tensor(3114.0327, device='cuda:0'), tensor(2665.5535, device='cuda:0'), tensor(2956.5876, device='cuda:0'), tensor(3006.9072, device='cuda:0'), tensor(3194.9612, device='cuda:0'), tensor(3009.1748, device='cuda:0'), tensor(2896.2686, device='cuda:0'), tensor(2839.1946, device='cuda:0'), tensor(2931.1807, device='cuda:0'), tensor(2936.6194, device='cuda:0'), tensor(2811.6252, device='cuda:0'), tensor(2932.7910, device='cuda:0'), tensor(3053.4873, device='cuda:0'), tensor(2911.6589, device='cuda:0'), tensor(2445.6287, device='cuda:0'), tensor(3250.4749, device='cuda:0'), tensor(2819.7397, device='cuda:0'), tensor(3322.5342, device='cuda:0'), tensor(3217.5715, device='cuda:0'), tensor(3378.2463, device='cuda:0'), tensor(3600.5271, device='cuda:0'), tensor(3581.3406, device='cuda:0'), tensor(3473.5271, device='cuda:0'), tensor(3339.1951, device='cuda:0'), tensor(3082.1501, device='cuda:0'), tensor(3539.1091, device='cuda:0'), tensor(3294.8523, device='cuda:0'), tensor(3066.5115, device='cuda:0'), tensor(3374.6526, device='cuda:0'), tensor(3115.6379, device='cuda:0'), tensor(3315.3909, device='cuda:0'), tensor(3348.7771, device='cuda:0'), tensor(3076.8809, device='cuda:0'), tensor(3463.8669, device='cuda:0'), tensor(3379.2605, device='cuda:0'), tensor(3530.4087, device='cuda:0'), tensor(3423.3638, device='cuda:0'), tensor(2950.5923, device='cuda:0'), tensor(2807.7444, device='cuda:0'), tensor(2882.1089, device='cuda:0'), tensor(2925.5310, device='cuda:0'), tensor(2927.2180, device='cuda:0'), tensor(3363.1267, device='cuda:0'), tensor(2844.6670, device='cuda:0'), tensor(3059.6624, device='cuda:0'), tensor(3137.1963, device='cuda:0'), tensor(3241.8806, device='cuda:0'), tensor(3269.4092, device='cuda:0'), tensor(3197.2708, device='cuda:0'), tensor(3428.0874, device='cuda:0'), tensor(3271.5754, device='cuda:0'), tensor(3497.4695, device='cuda:0'), tensor(3368.6494, device='cuda:0'), tensor(3421.3416, device='cuda:0'), tensor(3673.4331, device='cuda:0'), tensor(3671.4663, device='cuda:0'), tensor(3725.4009, device='cuda:0'), tensor(3817.8469, device='cuda:0'), tensor(3720.8418, device='cuda:0'), tensor(3702.8186, device='cuda:0'), tensor(3886.2522, device='cuda:0'), tensor(3710.8706, device='cuda:0'), tensor(3533.2749, device='cuda:0'), tensor(3604.8442, device='cuda:0'), tensor(3675.3501, device='cuda:0'), tensor(3592.7849, device='cuda:0'), tensor(3630.6389, device='cuda:0'), tensor(3378.5266, device='cuda:0'), tensor(3180.4641, device='cuda:0'), tensor(3697.9993, device='cuda:0'), tensor(3637.7109, device='cuda:0'), tensor(3237.9329, device='cuda:0'), tensor(3330.5469, device='cuda:0'), tensor(3352.6003, device='cuda:0'), tensor(3393.8806, device='cuda:0'), tensor(3276.1504, device='cuda:0'), tensor(3165.7810, device='cuda:0'), tensor(2727.0515, device='cuda:0'), tensor(3191.9631, device='cuda:0'), tensor(2853.5850, device='cuda:0'), tensor(3259.6406, device='cuda:0'), tensor(3146.3652, device='cuda:0'), tensor(3115.8767, device='cuda:0'), tensor(2993.0754, device='cuda:0'), tensor(3258.8833, device='cuda:0'), tensor(2956.7573, device='cuda:0'), tensor(2957.9971, device='cuda:0'), tensor(3182.5679, device='cuda:0'), tensor(3169.7700, device='cuda:0'), tensor(3043.6116, device='cuda:0'), tensor(3413.8772, device='cuda:0'), tensor(3197.9580, device='cuda:0'), tensor(3370.5881, device='cuda:0'), tensor(3328.8208, device='cuda:0'), tensor(2953.7249, device='cuda:0'), tensor(3129.3848, device='cuda:0'), tensor(3132.0544, device='cuda:0'), tensor(3108.9519, device='cuda:0'), tensor(3135.6470, device='cuda:0'), tensor(2967.1113, device='cuda:0'), tensor(2934.8491, device='cuda:0'), tensor(2988.9097, device='cuda:0'), tensor(2870.0068, device='cuda:0'), tensor(2779.7371, device='cuda:0'), tensor(3140.2534, device='cuda:0'), tensor(3277.2761, device='cuda:0'), tensor(3418.0615, device='cuda:0'), tensor(3210.3423, device='cuda:0'), tensor(3368.0007, device='cuda:0'), tensor(3156.9517, device='cuda:0'), tensor(3422.0964, device='cuda:0'), tensor(3372.1365, device='cuda:0'), tensor(3398.8223, device='cuda:0'), tensor(3083.3115, device='cuda:0'), tensor(3348.1985, device='cuda:0'), tensor(3049.3723, device='cuda:0'), tensor(3053.0820, device='cuda:0'), tensor(3676.5974, device='cuda:0'), tensor(2820.0105, device='cuda:0'), tensor(2960.1755, device='cuda:0'), tensor(2943.6736, device='cuda:0'), tensor(2785.7861, device='cuda:0'), tensor(2725.3533, device='cuda:0'), tensor(2681.9375, device='cuda:0'), tensor(2616.1841, device='cuda:0'), tensor(2931.3960, device='cuda:0'), tensor(2812.2476, device='cuda:0'), tensor(2905.8547, device='cuda:0'), tensor(3105.9897, device='cuda:0'), tensor(3689.4006, device='cuda:0'), tensor(3296.0122, device='cuda:0'), tensor(3124.0381, device='cuda:0'), tensor(3402.6392, device='cuda:0'), tensor(3381.0793, device='cuda:0'), tensor(3170.6355, device='cuda:0'), tensor(3146.3875, device='cuda:0'), tensor(3293.6592, device='cuda:0'), tensor(3229.2810, device='cuda:0'), tensor(3139.4175, device='cuda:0'), tensor(3299.3274, device='cuda:0'), tensor(3552.4419, device='cuda:0'), tensor(3330.9956, device='cuda:0'), tensor(3190.6167, device='cuda:0'), tensor(3435.9038, device='cuda:0'), tensor(3413.9902, device='cuda:0'), tensor(3311.8069, device='cuda:0'), tensor(3382.2544, device='cuda:0'), tensor(3586.3540, device='cuda:0'), tensor(2808.3567, device='cuda:0'), tensor(3370.6294, device='cuda:0'), tensor(3287.1389, device='cuda:0'), tensor(2817.8838, device='cuda:0'), tensor(3149.3525, device='cuda:0'), tensor(2502.9504, device='cuda:0'), tensor(2097.4771, device='cuda:0'), tensor(3531.1396, device='cuda:0'), tensor(3520.5012, device='cuda:0'), tensor(3512.3215, device='cuda:0'), tensor(3208.3335, device='cuda:0'), tensor(3770.0181, device='cuda:0'), tensor(3733.1714, device='cuda:0'), tensor(3216.5256, device='cuda:0'), tensor(3000.6899, device='cuda:0'), tensor(3078.4299, device='cuda:0'), tensor(3172.2754, device='cuda:0'), tensor(3096.1196, device='cuda:0'), tensor(3413.8525, device='cuda:0'), tensor(3455.1406, device='cuda:0'), tensor(3593.5427, device='cuda:0'), tensor(3477.8662, device='cuda:0'), tensor(2346.9473, device='cuda:0')]\n"
     ]
    }
   ],
   "source": [
    "print(lls_regular)"
   ]
  },
  {
   "cell_type": "code",
   "execution_count": 4,
   "id": "fb06fd07-e438-4287-aafe-2f5eef3daf7c",
   "metadata": {},
   "outputs": [
    {
     "name": "stderr",
     "output_type": "stream",
     "text": [
      "Found cached dataset wikitext (/home/rloha/.cache/huggingface/datasets/wikitext/wikitext-2-v1/1.0.0/a241db52902eaf2c6aa732210bead40c090019a499ceb13bcbfa3f8ab646a126)\n",
      "Token indices sequence length is longer than the specified maximum sequence length for this model (297300 > 1024). Running this sequence through the model will result in indexing errors\n",
      "0it [00:00, ?it/s]"
     ]
    },
    {
     "name": "stdout",
     "output_type": "stream",
     "text": [
      "Final perplexity: None\n"
     ]
    },
    {
     "name": "stderr",
     "output_type": "stream",
     "text": [
      "\n"
     ]
    }
   ],
   "source": [
    "# load dataset and tokenize\n",
    "data = load_dataset('wikitext', 'wikitext-2-v1', split='test')\n",
    "encodings = dexperts.tokenizer('\\n\\n'.join(data['text']), return_tensors='pt')\n",
    "\n",
    "# compute perplexity\n",
    "lls_regular = []\n",
    "ppl_regular = None\n",
    "\n",
    "for i in tqdm(range(0, encodings.input_ids.size(1), stride)):\n",
    "    # if i> 1:\n",
    "    #     break\n",
    "    begin_loc = max(i + stride - max_length, 0)\n",
    "    end_loc = min(i + stride, encodings.input_ids.size(1))\n",
    "    trg_len = end_loc - i  # may be different from stride on last loop\n",
    "    input_ids = encodings.input_ids[:, begin_loc:end_loc].to(device)\n",
    "    target_ids = input_ids.clone()\n",
    "    target_ids[:, :-trg_len] = -100\n",
    "\n",
    "    with torch.no_grad():\n",
    "        # loss_regular = compute_loss(input_ids, labels=target_ids)\n",
    "        logits = dexperts._get_logits(input_ids, alpha=alpha)\n",
    "        # print(logits.shape)\n",
    "        loss_regular = dexperts._get_perplexity(logits=logits, labels=target_ids, exp=False)\n",
    "        # print(loss_regular)\n",
    "        log_likelihood_regular = loss_regular * trg_len\n",
    "\n",
    "    lls_regular.append(log_likelihood_regular)\n",
    "\n",
    "    ppl_regular = torch.exp(torch.stack(lls_regular).sum() / end_loc)\n",
    "    # print(f'Perplexity after {i} tokens: {ppl_debiased} (debiased) vs {ppl_regular} (regular)')\n",
    "print(f'Final perplexity: {ppl_regular}')\n"
   ]
  },
  {
   "cell_type": "code",
   "execution_count": null,
   "id": "32202672-f278-47c8-a148-379a85a37e91",
   "metadata": {},
   "outputs": [],
   "source": [
    "\n",
    "    if args.save_json:\n",
    "        with open(args.save_json, 'wt') as f:\n",
    "            args.__dict__['perplexity'] = ppl_regular.item()\n",
    "            json.dump(args.__dict__, f, indent=2)\n"
   ]
  },
  {
   "cell_type": "code",
   "execution_count": null,
   "id": "c883912d-3580-4489-b5b3-9ef43258bee8",
   "metadata": {},
   "outputs": [],
   "source": [
    "if args.save_json:\n",
    "    with open(args.save_json, 'wt') as f:\n",
    "        args.__dict__['perplexity'] = ppl_regular.item()\n",
    "        json.dump(args.__dict__, f, indent=2)\n"
   ]
  }
 ],
 "metadata": {
  "kernelspec": {
   "display_name": "Python 3 (ipykernel)",
   "language": "python",
   "name": "python3"
  },
  "language_info": {
   "codemirror_mode": {
    "name": "ipython",
    "version": 3
   },
   "file_extension": ".py",
   "mimetype": "text/x-python",
   "name": "python",
   "nbconvert_exporter": "python",
   "pygments_lexer": "ipython3",
   "version": "3.8.13"
  }
 },
 "nbformat": 4,
 "nbformat_minor": 5
}
