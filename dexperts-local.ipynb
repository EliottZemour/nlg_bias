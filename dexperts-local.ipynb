{
 "cells": [
  {
   "cell_type": "code",
   "execution_count": 17,
   "metadata": {},
   "outputs": [],
   "source": [
    "from transformers import AutoTokenizer, AutoModelForCausalLM, set_seed\n",
    "from pathlib import Path\n",
    "from typing import Union, List\n",
    "import torch\n",
    "from torch.nn import CrossEntropyLoss"
   ]
  },
  {
   "cell_type": "code",
   "execution_count": 18,
   "metadata": {},
   "outputs": [],
   "source": [
    "from dexperts import DExperts"
   ]
  },
  {
   "cell_type": "code",
   "execution_count": 19,
   "metadata": {},
   "outputs": [],
   "source": [
    "dexperts = DExperts(\n",
    "    base_model='gpt2',\n",
    "    # antiexpert_model='eliolio/gpt2-finetuned-redditbias',\n",
    "    # expert_model='eliolio/gpt2-finetuned-reddit-antibias',\n",
    "    tokenizer='gpt2',\n",
    ")"
   ]
  },
  {
   "cell_type": "code",
   "execution_count": 20,
   "metadata": {},
   "outputs": [
    {
     "data": {
      "text/plain": [
       "tensor(15.8862)"
      ]
     },
     "execution_count": 20,
     "metadata": {},
     "output_type": "execute_result"
    }
   ],
   "source": [
    "dexperts.compute_perplexity(prompt=\"Hello, my name is Emma. I am a nice person.\")"
   ]
  },
  {
   "cell_type": "code",
   "execution_count": null,
   "metadata": {},
   "outputs": [],
   "source": []
  },
  {
   "cell_type": "code",
   "execution_count": 11,
   "metadata": {},
   "outputs": [
    {
     "data": {
      "text/plain": [
       "{'logits': tensor([[[ -35.2360,  -35.3263,  -38.9751,  ...,  -44.4643,  -43.9972,\n",
       "            -36.4578],\n",
       "          [-112.6172, -114.5833, -116.5725,  ..., -119.0128, -118.8060,\n",
       "           -111.6917],\n",
       "          [ -88.7435,  -89.8644,  -93.1977,  ...,  -92.3840,  -96.1783,\n",
       "            -92.1273],\n",
       "          ...,\n",
       "          [ -95.4800,  -93.5363,  -99.4098,  ..., -105.8676, -103.3394,\n",
       "            -98.2175],\n",
       "          [ -66.0035,  -66.7777,  -76.5403,  ...,  -81.8574,  -78.8347,\n",
       "            -72.5188],\n",
       "          [-127.8294, -126.8745, -129.0321,  ..., -139.1451, -140.1353,\n",
       "           -123.1343]]]),\n",
       " 'perplexity': tensor(13638.4199)}"
      ]
     },
     "execution_count": 11,
     "metadata": {},
     "output_type": "execute_result"
    }
   ],
   "source": [
    "res = dexperts(\"Hello, my name is Emma. I am a nice person.\", alpha=0.0)\n",
    "res"
   ]
  },
  {
   "cell_type": "code",
   "execution_count": 12,
   "metadata": {},
   "outputs": [
    {
     "data": {
      "text/plain": [
       "torch.Size([1, 13, 50257])"
      ]
     },
     "execution_count": 12,
     "metadata": {},
     "output_type": "execute_result"
    }
   ],
   "source": [
    "res['logits'].shape"
   ]
  },
  {
   "cell_type": "code",
   "execution_count": 13,
   "metadata": {},
   "outputs": [],
   "source": [
    "shift_logits = res['logits'][..., :-1, :]"
   ]
  },
  {
   "cell_type": "code",
   "execution_count": 14,
   "metadata": {},
   "outputs": [
    {
     "data": {
      "text/plain": [
       "torch.Size([12, 50257])"
      ]
     },
     "execution_count": 14,
     "metadata": {},
     "output_type": "execute_result"
    }
   ],
   "source": [
    "shift_logits.view(-1, shift_logits.size(-1)).shape"
   ]
  },
  {
   "cell_type": "code",
   "execution_count": null,
   "metadata": {},
   "outputs": [],
   "source": []
  }
 ],
 "metadata": {
  "kernelspec": {
   "display_name": "Python 3.10.7 ('venv': venv)",
   "language": "python",
   "name": "python3"
  },
  "language_info": {
   "codemirror_mode": {
    "name": "ipython",
    "version": 3
   },
   "file_extension": ".py",
   "mimetype": "text/x-python",
   "name": "python",
   "nbconvert_exporter": "python",
   "pygments_lexer": "ipython3",
   "version": "3.10.7 (main, Sep 14 2022, 22:38:23) [Clang 14.0.0 (clang-1400.0.29.102)]"
  },
  "orig_nbformat": 4,
  "vscode": {
   "interpreter": {
    "hash": "e2e8cf6c8a0e336b88b8b74ceca74e60238c1300ebcacd360aa408440a347c3e"
   }
  }
 },
 "nbformat": 4,
 "nbformat_minor": 2
}
