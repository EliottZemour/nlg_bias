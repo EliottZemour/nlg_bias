{
 "cells": [
  {
   "cell_type": "code",
   "execution_count": 1,
   "metadata": {},
   "outputs": [],
   "source": [
    "import argparse\n",
    "import torch\n",
    "from torch.nn import CrossEntropyLoss\n",
    "from tqdm import tqdm\n",
    "\n",
    "from transformers import GPT2TokenizerFast, GPT2LMHeadModel\n",
    "from datasets import load_dataset\n",
    "from dexperts import DExperts"
   ]
  },
  {
   "cell_type": "code",
   "execution_count": 2,
   "metadata": {},
   "outputs": [],
   "source": [
    "dexperts = DExperts(\n",
    "    base_model='gpt2',\n",
    "    # antiexpert_model='eliolio/gpt2-finetuned-redditbias',\n",
    "    # expert_model='eliolio/gpt2-finetuned-reddit-antibias',\n",
    "    tokenizer='gpt2',\n",
    ")\n",
    "device = 'cuda' if torch.cuda.is_available() else 'cpu'"
   ]
  },
  {
   "cell_type": "code",
   "execution_count": 3,
   "metadata": {},
   "outputs": [
    {
     "name": "stderr",
     "output_type": "stream",
     "text": [
      "Found cached dataset wikitext (/Users/eliott/.cache/huggingface/datasets/wikitext/wikitext-2-v1/1.0.0/a241db52902eaf2c6aa732210bead40c090019a499ceb13bcbfa3f8ab646a126)\n",
      "Token indices sequence length is longer than the specified maximum sequence length for this model (297300 > 1024). Running this sequence through the model will result in indexing errors\n"
     ]
    }
   ],
   "source": [
    "data = load_dataset('wikitext', 'wikitext-2-v1', split='test')\n",
    "encodings = dexperts.tokenizer('\\n\\n'.join(data['text']), return_tensors='pt')"
   ]
  },
  {
   "cell_type": "code",
   "execution_count": 4,
   "metadata": {},
   "outputs": [
    {
     "data": {
      "text/plain": [
       "297300"
      ]
     },
     "execution_count": 4,
     "metadata": {},
     "output_type": "execute_result"
    }
   ],
   "source": [
    "encodings.input_ids.size(1)"
   ]
  },
  {
   "cell_type": "code",
   "execution_count": 5,
   "metadata": {},
   "outputs": [],
   "source": [
    "stride = -1\n",
    "alpha = 2.0\n",
    "max_length = -1\n",
    "max_length_pattern = 32\n",
    "max_length = (max_length if max_length > 0 else dexperts.base_model.config.n_positions) - max_length_pattern\n",
    "if stride <= 0:\n",
    "    stride = max_length"
   ]
  },
  {
   "attachments": {},
   "cell_type": "markdown",
   "metadata": {},
   "source": [
    "```\n",
    "    def compute_perplexity(self, prompt: str, alpha: float = None):\n",
    "        encodings_dict = self.tokenizer(\n",
    "            prompt, return_tensors=\"pt\", padding=True, return_attention_mask=True\n",
    "        ).to(self.device)\n",
    "        encoded_text = encodings_dict[\"input_ids\"]\n",
    "        attn_mask = encodings_dict[\"attention_mask\"]\n",
    "        if alpha is None:\n",
    "            alpha = self.alpha\n",
    "        logits = self._get_logits(encoded_text, alpha=alpha)\n",
    "        return self._get_perplexity(logits, encoded_text)\n",
    "\n",
    "```"
   ]
  },
  {
   "cell_type": "code",
   "execution_count": 7,
   "metadata": {},
   "outputs": [
    {
     "name": "stderr",
     "output_type": "stream",
     "text": [
      "100%|██████████| 300/300 [03:07<00:00,  1.60it/s]"
     ]
    },
    {
     "name": "stdout",
     "output_type": "stream",
     "text": [
      "Final perplexity: None (debiased) vs 24.770050048828125 (regular)\n"
     ]
    },
    {
     "name": "stderr",
     "output_type": "stream",
     "text": [
      "\n"
     ]
    }
   ],
   "source": [
    "lls_debiased, lls_regular = [], []\n",
    "ppl_debiased, ppl_regular = None, None\n",
    "\n",
    "for i in tqdm(range(0, encodings.input_ids.size(1), stride)):\n",
    "    begin_loc = max(i + stride - max_length, 0)\n",
    "    end_loc = min(i + stride, encodings.input_ids.size(1))\n",
    "    trg_len = end_loc - i  # may be different from stride on last loop\n",
    "    input_ids = encodings.input_ids[:, begin_loc:end_loc].to(device)\n",
    "    target_ids = input_ids.clone()\n",
    "    target_ids[:, :-trg_len] = -100\n",
    "\n",
    "    with torch.no_grad():\n",
    "        # loss_regular = compute_loss(input_ids, labels=target_ids)\n",
    "        logits = dexperts._get_logits(input_ids, alpha=alpha)\n",
    "        # print(logits.shape)\n",
    "        loss_regular = dexperts._get_perplexity(logits=logits, labels=target_ids, exp=False)\n",
    "        # print(loss_regular)\n",
    "        log_likelihood_regular = loss_regular * trg_len\n",
    "\n",
    "    lls_regular.append(log_likelihood_regular)\n",
    "\n",
    "    ppl_regular = torch.exp(torch.stack(lls_regular).sum() / end_loc)\n",
    "    # print(f'Perplexity after {i} tokens: {ppl_debiased} (debiased) vs {ppl_regular} (regular)')\n",
    "print(f'Final perplexity: {ppl_debiased} (debiased) vs {ppl_regular} (regular)')"
   ]
  },
  {
   "cell_type": "code",
   "execution_count": 8,
   "metadata": {},
   "outputs": [],
   "source": [
    "dexperts = DExperts(\n",
    "    base_model='gpt2',\n",
    "    antiexpert_model='eliolio/gpt2-finetuned-redditbias',\n",
    "    expert_model='eliolio/gpt2-finetuned-reddit-antibias',\n",
    "    tokenizer='gpt2',\n",
    ")"
   ]
  },
  {
   "cell_type": "code",
   "execution_count": 9,
   "metadata": {},
   "outputs": [
    {
     "name": "stderr",
     "output_type": "stream",
     "text": [
      "100%|██████████| 300/300 [08:57<00:00,  1.79s/it]"
     ]
    },
    {
     "name": "stdout",
     "output_type": "stream",
     "text": [
      "Final perplexity: None (debiased) vs 31.38951301574707 (regular)\n"
     ]
    },
    {
     "name": "stderr",
     "output_type": "stream",
     "text": [
      "\n"
     ]
    }
   ],
   "source": [
    "lls_debiased, lls_regular = [], []\n",
    "ppl_debiased, ppl_regular = None, None\n",
    "\n",
    "for i in tqdm(range(0, encodings.input_ids.size(1), stride)):\n",
    "    begin_loc = max(i + stride - max_length, 0)\n",
    "    end_loc = min(i + stride, encodings.input_ids.size(1))\n",
    "    trg_len = end_loc - i  # may be different from stride on last loop\n",
    "    input_ids = encodings.input_ids[:, begin_loc:end_loc].to(device)\n",
    "    target_ids = input_ids.clone()\n",
    "    target_ids[:, :-trg_len] = -100\n",
    "\n",
    "    with torch.no_grad():\n",
    "        # loss_regular = compute_loss(input_ids, labels=target_ids)\n",
    "        logits = dexperts._get_logits(input_ids, alpha=alpha)\n",
    "        # print(logits.shape)\n",
    "        loss_regular = dexperts._get_perplexity(logits=logits, labels=target_ids, exp=False)\n",
    "        # print(loss_regular)\n",
    "        log_likelihood_regular = loss_regular * trg_len\n",
    "\n",
    "    lls_regular.append(log_likelihood_regular)\n",
    "\n",
    "    ppl_regular = torch.exp(torch.stack(lls_regular).sum() / end_loc)\n",
    "    # print(f'Perplexity after {i} tokens: {ppl_debiased} (debiased) vs {ppl_regular} (regular)')\n",
    "print(f'Final perplexity: {ppl_debiased} (debiased) vs {ppl_regular} (regular)')"
   ]
  },
  {
   "cell_type": "code",
   "execution_count": null,
   "metadata": {},
   "outputs": [],
   "source": []
  }
 ],
 "metadata": {
  "kernelspec": {
   "display_name": "venv",
   "language": "python",
   "name": "python3"
  },
  "language_info": {
   "codemirror_mode": {
    "name": "ipython",
    "version": 3
   },
   "file_extension": ".py",
   "mimetype": "text/x-python",
   "name": "python",
   "nbconvert_exporter": "python",
   "pygments_lexer": "ipython3",
   "version": "3.10.7 (main, Sep 14 2022, 22:38:23) [Clang 14.0.0 (clang-1400.0.29.102)]"
  },
  "orig_nbformat": 4,
  "vscode": {
   "interpreter": {
    "hash": "e2e8cf6c8a0e336b88b8b74ceca74e60238c1300ebcacd360aa408440a347c3e"
   }
  }
 },
 "nbformat": 4,
 "nbformat_minor": 2
}
