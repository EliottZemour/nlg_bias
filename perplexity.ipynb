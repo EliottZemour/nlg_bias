{
 "cells": [
  {
   "cell_type": "code",
   "execution_count": 1,
   "metadata": {},
   "outputs": [],
   "source": [
    "import argparse\n",
    "import torch\n",
    "from torch.nn import CrossEntropyLoss\n",
    "from tqdm import tqdm\n",
    "\n",
    "from transformers import GPT2TokenizerFast, GPT2LMHeadModel\n",
    "from datasets import load_dataset\n",
    "from dexperts import DExperts"
   ]
  },
  {
   "cell_type": "code",
   "execution_count": 24,
   "metadata": {},
   "outputs": [],
   "source": [
    "dexperts = DExperts(\n",
    "    base_model='bigscience/bloom-560m',\n",
    "    # antiexpert_model='eliolio/gpt2-finetuned-redditbias',\n",
    "    # expert_model='eliolio/gpt2-finetuned-reddit-antibias',\n",
    "    tokenizer='bigscience/bloom-560m',\n",
    ")\n",
    "device = 'cuda' if torch.cuda.is_available() else 'cpu'"
   ]
  },
  {
   "cell_type": "code",
   "execution_count": 54,
   "metadata": {},
   "outputs": [
    {
     "name": "stderr",
     "output_type": "stream",
     "text": [
      "Found cached dataset wikitext (/Users/eliott/.cache/huggingface/datasets/wikitext/wikitext-2-v1/1.0.0/a241db52902eaf2c6aa732210bead40c090019a499ceb13bcbfa3f8ab646a126)\n"
     ]
    }
   ],
   "source": [
    "data = load_dataset('wikitext', 'wikitext-2-v1', split='test')\n",
    "encodings = dexperts.tokenizer('\\n\\n'.join(data['text'][:10]), return_tensors='pt')"
   ]
  },
  {
   "cell_type": "code",
   "execution_count": 55,
   "metadata": {},
   "outputs": [
    {
     "data": {
      "text/plain": [
       "406"
      ]
     },
     "execution_count": 55,
     "metadata": {},
     "output_type": "execute_result"
    }
   ],
   "source": [
    "encodings.input_ids.size(1)"
   ]
  },
  {
   "cell_type": "code",
   "execution_count": 61,
   "metadata": {},
   "outputs": [],
   "source": [
    "stride = -1\n",
    "alpha = 2.0\n",
    "max_length = -1\n",
    "max_length_pattern = 32\n",
    "max_length = (max_length if max_length > 0 else 1024) - max_length_pattern\n",
    "if stride <= 0:\n",
    "    stride = max_length"
   ]
  },
  {
   "attachments": {},
   "cell_type": "markdown",
   "metadata": {},
   "source": [
    "```\n",
    "    def compute_perplexity(self, prompt: str, alpha: float = None):\n",
    "        encodings_dict = self.tokenizer(\n",
    "            prompt, return_tensors=\"pt\", padding=True, return_attention_mask=True\n",
    "        ).to(self.device)\n",
    "        encoded_text = encodings_dict[\"input_ids\"]\n",
    "        attn_mask = encodings_dict[\"attention_mask\"]\n",
    "        if alpha is None:\n",
    "            alpha = self.alpha\n",
    "        logits = self._get_logits(encoded_text, alpha=alpha)\n",
    "        return self._get_perplexity(logits, encoded_text)\n",
    "\n",
    "```"
   ]
  },
  {
   "cell_type": "code",
   "execution_count": 64,
   "metadata": {},
   "outputs": [
    {
     "data": {
      "text/plain": [
       "992"
      ]
     },
     "execution_count": 64,
     "metadata": {},
     "output_type": "execute_result"
    }
   ],
   "source": [
    "max_length"
   ]
  },
  {
   "cell_type": "code",
   "execution_count": 62,
   "metadata": {},
   "outputs": [
    {
     "name": "stderr",
     "output_type": "stream",
     "text": [
      "100%|██████████| 1/1 [00:02<00:00,  2.47s/it]"
     ]
    },
    {
     "name": "stdout",
     "output_type": "stream",
     "text": [
      "Final perplexity: None (debiased) vs 26.427648544311523 (regular)\n"
     ]
    },
    {
     "name": "stderr",
     "output_type": "stream",
     "text": [
      "\n"
     ]
    }
   ],
   "source": [
    "lls_debiased, lls_regular = [], []\n",
    "ppl_debiased, ppl_regular = None, None\n",
    "\n",
    "for i in tqdm(range(0, encodings.input_ids.size(1), stride)):\n",
    "    begin_loc = max(i + stride - max_length, 0)\n",
    "    end_loc = min(i + stride, encodings.input_ids.size(1))\n",
    "    trg_len = end_loc - i  # may be different from stride on last loop\n",
    "    input_ids = encodings.input_ids[:, begin_loc:end_loc].to(device)\n",
    "    target_ids = input_ids.clone()\n",
    "    target_ids[:, :-trg_len] = -100\n",
    "\n",
    "    with torch.no_grad():\n",
    "        # loss_regular = compute_loss(input_ids, labels=target_ids)\n",
    "        logits = dexperts._get_logits(input_ids, alpha=alpha)\n",
    "        # print(logits.shape)\n",
    "        loss_regular = dexperts._get_perplexity(logits=logits, labels=target_ids, exp=False)\n",
    "        # print(loss_regular)\n",
    "        log_likelihood_regular = loss_regular * trg_len\n",
    "\n",
    "    lls_regular.append(log_likelihood_regular)\n",
    "\n",
    "    ppl_regular = torch.exp(torch.stack(lls_regular).sum() / end_loc)\n",
    "    # print(f'Perplexity after {i} tokens: {ppl_debiased} (debiased) vs {ppl_regular} (regular)')\n",
    "print(f'Final perplexity: {ppl_debiased} (debiased) vs {ppl_regular} (regular)')"
   ]
  },
  {
   "cell_type": "code",
   "execution_count": 49,
   "metadata": {},
   "outputs": [
    {
     "data": {
      "text/plain": [
       "992"
      ]
     },
     "execution_count": 49,
     "metadata": {},
     "output_type": "execute_result"
    }
   ],
   "source": [
    "stride"
   ]
  },
  {
   "cell_type": "code",
   "execution_count": 50,
   "metadata": {},
   "outputs": [
    {
     "data": {
      "text/plain": [
       "992"
      ]
     },
     "execution_count": 50,
     "metadata": {},
     "output_type": "execute_result"
    }
   ],
   "source": [
    "max_length"
   ]
  },
  {
   "cell_type": "code",
   "execution_count": null,
   "metadata": {},
   "outputs": [],
   "source": []
  },
  {
   "cell_type": "code",
   "execution_count": 45,
   "metadata": {},
   "outputs": [
    {
     "data": {
      "text/plain": [
       "tensor(26.4223)"
      ]
     },
     "execution_count": 45,
     "metadata": {},
     "output_type": "execute_result"
    }
   ],
   "source": [
    "torch.exp(torch.stack(lls_regular).sum() / end_loc)"
   ]
  },
  {
   "cell_type": "code",
   "execution_count": 5,
   "metadata": {},
   "outputs": [],
   "source": [
    "dexperts = DExperts(\n",
    "    base_model='gpt2',\n",
    "    antiexpert_model='eliolio/gpt2-finetuned-redditbias',\n",
    "    expert_model='eliolio/gpt2-finetuned-reddit-antibias',\n",
    "    tokenizer='gpt2',\n",
    ")"
   ]
  },
  {
   "cell_type": "code",
   "execution_count": 6,
   "metadata": {},
   "outputs": [
    {
     "data": {
      "text/plain": [
       "1024"
      ]
     },
     "execution_count": 6,
     "metadata": {},
     "output_type": "execute_result"
    }
   ],
   "source": [
    "dexperts.base_model.config.n_positions"
   ]
  },
  {
   "cell_type": "code",
   "execution_count": null,
   "metadata": {},
   "outputs": [],
   "source": []
  },
  {
   "cell_type": "code",
   "execution_count": 9,
   "metadata": {},
   "outputs": [
    {
     "name": "stderr",
     "output_type": "stream",
     "text": [
      "100%|██████████| 300/300 [08:57<00:00,  1.79s/it]"
     ]
    },
    {
     "name": "stdout",
     "output_type": "stream",
     "text": [
      "Final perplexity: None (debiased) vs 31.38951301574707 (regular)\n"
     ]
    },
    {
     "name": "stderr",
     "output_type": "stream",
     "text": [
      "\n"
     ]
    }
   ],
   "source": [
    "lls_debiased, lls_regular = [], []\n",
    "ppl_debiased, ppl_regular = None, None\n",
    "\n",
    "for i in tqdm(range(0, encodings.input_ids.size(1), stride)):\n",
    "    begin_loc = max(i + stride - max_length, 0)\n",
    "    end_loc = min(i + stride, encodings.input_ids.size(1))\n",
    "    trg_len = end_loc - i  # may be different from stride on last loop\n",
    "    input_ids = encodings.input_ids[:, begin_loc:end_loc].to(device)\n",
    "    target_ids = input_ids.clone()\n",
    "    target_ids[:, :-trg_len] = -100\n",
    "\n",
    "    with torch.no_grad():\n",
    "        # loss_regular = compute_loss(input_ids, labels=target_ids)\n",
    "        logits = dexperts._get_logits(input_ids, alpha=alpha)\n",
    "        # print(logits.shape)\n",
    "        loss_regular = dexperts._get_perplexity(logits=logits, labels=target_ids, exp=False)\n",
    "        # print(loss_regular)\n",
    "        log_likelihood_regular = loss_regular * trg_len\n",
    "\n",
    "    lls_regular.append(log_likelihood_regular)\n",
    "\n",
    "    ppl_regular = torch.exp(torch.stack(lls_regular).sum() / end_loc)\n",
    "    # print(f'Perplexity after {i} tokens: {ppl_debiased} (debiased) vs {ppl_regular} (regular)')\n",
    "print(f'Final perplexity: {ppl_debiased} (debiased) vs {ppl_regular} (regular)')"
   ]
  },
  {
   "cell_type": "code",
   "execution_count": 44,
   "metadata": {},
   "outputs": [
    {
     "data": {
      "text/plain": [
       "tensor(26.4223)"
      ]
     },
     "execution_count": 44,
     "metadata": {},
     "output_type": "execute_result"
    }
   ],
   "source": [
    "torch.exp(torch.stack(lls_regular).sum() / end_loc)"
   ]
  },
  {
   "cell_type": "code",
   "execution_count": 41,
   "metadata": {},
   "outputs": [
    {
     "data": {
      "text/plain": [
       "15.69"
      ]
     },
     "execution_count": 41,
     "metadata": {},
     "output_type": "execute_result"
    }
   ],
   "source": [
    "31.38/2"
   ]
  },
  {
   "cell_type": "code",
   "execution_count": 33,
   "metadata": {},
   "outputs": [],
   "source": [
    "from transformers import BloomForCausalLM\n",
    "model = BloomForCausalLM.from_pretrained('bigscience/bloom-560m')"
   ]
  },
  {
   "cell_type": "code",
   "execution_count": 39,
   "metadata": {},
   "outputs": [],
   "source": [
    "model.seqlen = 2048"
   ]
  },
  {
   "cell_type": "code",
   "execution_count": 40,
   "metadata": {},
   "outputs": [
    {
     "data": {
      "text/plain": [
       "2048"
      ]
     },
     "execution_count": 40,
     "metadata": {},
     "output_type": "execute_result"
    }
   ],
   "source": [
    "model.seqlen"
   ]
  },
  {
   "cell_type": "code",
   "execution_count": 4,
   "metadata": {},
   "outputs": [
    {
     "data": {
      "text/plain": [
       "{'logits': tensor([[[349.2594, 353.2092, 360.3812,  ..., 209.4018, 209.4017, 209.3962],\n",
       "          [365.7440, 367.9818, 380.9273,  ..., 211.6974, 211.6970, 211.6921],\n",
       "          [402.1103, 402.5622, 416.0273,  ..., 211.3478, 211.3476, 211.3427],\n",
       "          ...,\n",
       "          [404.6316, 406.3918, 423.9075,  ..., 208.6725, 208.6725, 208.6665],\n",
       "          [397.6118, 396.9107, 419.1426,  ..., 205.5356, 205.5356, 205.5297],\n",
       "          [405.3145, 406.4235, 428.2386,  ..., 207.0648, 207.0648, 207.0592]]]),\n",
       " 'perplexity': tensor(24.7266),\n",
       " 'encoded_text': tensor([[  5644,   4040,    632,    466,     76,    530,    707,    912,    267,\n",
       "           26371, 140541]])}"
      ]
     },
     "execution_count": 4,
     "metadata": {},
     "output_type": "execute_result"
    }
   ],
   "source": [
    "dexperts(\"my name is eli and i am a computer scientist\")"
   ]
  },
  {
   "cell_type": "code",
   "execution_count": 7,
   "metadata": {},
   "outputs": [
    {
     "data": {
      "text/plain": [
       "{'logits': tensor([[[ -24.1817,  -22.8510,  -26.6129,  ...,  -31.3580,  -29.9223,\n",
       "            -24.4473],\n",
       "          [ -76.6425,  -72.7184,  -82.4079,  ...,  -86.0333,  -84.7519,\n",
       "            -79.6788],\n",
       "          [ -85.4887,  -83.0297,  -89.8329,  ...,  -93.7603,  -92.6636,\n",
       "            -87.9938],\n",
       "          ...,\n",
       "          [-105.5130, -103.0655, -106.0845,  ..., -111.6936, -110.1144,\n",
       "           -106.2048],\n",
       "          [-106.0199, -105.1366, -109.8357,  ..., -118.4531, -116.0486,\n",
       "           -108.5136],\n",
       "          [-103.2196, -101.2882, -106.4613,  ..., -116.1997, -114.7123,\n",
       "           -104.2242]]]),\n",
       " 'perplexity': tensor(134.4997),\n",
       " 'encoded_text': tensor([[ 1820,  1438,   318,  1288,    72,   290,  1312,   716,   257,  3644,\n",
       "          11444]])}"
      ]
     },
     "execution_count": 7,
     "metadata": {},
     "output_type": "execute_result"
    }
   ],
   "source": [
    "dexperts(\"my name is eli and i am a computer scientist\")"
   ]
  },
  {
   "cell_type": "code",
   "execution_count": null,
   "metadata": {},
   "outputs": [],
   "source": [
    "nohup python -u evaluateBias_dexperts.py --prompt_dir ../prompts/ --base_model gpt2-medium --out_dir results/dexperts_gpt2_med_alpha1 --alpha 1.0 > dexperts_gpt2_med_alpha1.log &"
   ]
  }
 ],
 "metadata": {
  "kernelspec": {
   "display_name": "venv",
   "language": "python",
   "name": "python3"
  },
  "language_info": {
   "codemirror_mode": {
    "name": "ipython",
    "version": 3
   },
   "file_extension": ".py",
   "mimetype": "text/x-python",
   "name": "python",
   "nbconvert_exporter": "python",
   "pygments_lexer": "ipython3",
   "version": "3.10.7"
  },
  "orig_nbformat": 4,
  "vscode": {
   "interpreter": {
    "hash": "e2e8cf6c8a0e336b88b8b74ceca74e60238c1300ebcacd360aa408440a347c3e"
   }
  }
 },
 "nbformat": 4,
 "nbformat_minor": 2
}
