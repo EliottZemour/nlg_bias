{
 "cells": [
  {
   "cell_type": "code",
   "execution_count": 2,
   "metadata": {},
   "outputs": [],
   "source": [
    "from dexperts import DExperts"
   ]
  },
  {
   "cell_type": "code",
   "execution_count": 20,
   "metadata": {},
   "outputs": [],
   "source": [
    "dexperts = DExperts(\n",
    "    base_model='gpt2-medium',\n",
    "    antiexpert_model='eliolio/gpt2-finetuned-redditbias',\n",
    "    expert_model='eliolio/gpt2-finetuned-reddit-antibias',\n",
    "    tokenizer='gpt2',\n",
    ")\n",
    "\n",
    "dexperts_void = DExperts(\n",
    "    base_model='gpt2-medium',\n",
    "    tokenizer='gpt2',\n",
    ")"
   ]
  },
  {
   "cell_type": "code",
   "execution_count": 8,
   "metadata": {},
   "outputs": [],
   "source": [
    "def generate_text(prompt, typical_p=None, top_p=None):\n",
    "    inputs = dexperts.tokenizer(prompt, return_tensors='pt')\n",
    "    out = dexperts.generate(\n",
    "        input_ids=inputs.input_ids,\n",
    "        attention_mask=inputs.attention_mask,\n",
    "        num_return_sequences=3,\n",
    "        max_new_tokens=15,\n",
    "        do_sample=True,\n",
    "        top_p=top_p,\n",
    "        typical_p=typical_p,\n",
    "    )\n",
    "    return [dexperts.tokenizer.decode(out[i], skip_special_tokens=True) for i in range(len(out))]"
   ]
  },
  {
   "cell_type": "code",
   "execution_count": 9,
   "metadata": {},
   "outputs": [
    {
     "data": {
      "text/plain": [
       "['I am very confident that any attempt to pass legislation supporting recreational marijuana on the Canadian public will',\n",
       " 'I am very virtuous,\" he responded. \"So virtuous that if I save 20 persons,',\n",
       " 'I am very confident.\"\\n\\nLiam Tipton, executive vice president of the']"
      ]
     },
     "execution_count": 9,
     "metadata": {},
     "output_type": "execute_result"
    }
   ],
   "source": [
    "generate_text(prompt='I am very')"
   ]
  },
  {
   "cell_type": "code",
   "execution_count": 22,
   "metadata": {},
   "outputs": [
    {
     "data": {
      "text/plain": [
       "{'logits': tensor([[[ -78.3232,  -77.6039,  -80.8931,  ...,  -89.6521,  -82.6672,\n",
       "            -80.4394],\n",
       "          [-100.7663, -100.0332, -105.9358,  ..., -109.0896, -108.7145,\n",
       "           -102.2539],\n",
       "          [-118.6408, -118.0217, -124.4341,  ..., -125.5256, -125.2729,\n",
       "           -120.2754]]]),\n",
       " 'perplexity': tensor(1828.4690)}"
      ]
     },
     "execution_count": 22,
     "metadata": {},
     "output_type": "execute_result"
    }
   ],
   "source": [
    "dexperts(\"I am very\", alpha=0.0)"
   ]
  },
  {
   "cell_type": "code",
   "execution_count": 23,
   "metadata": {},
   "outputs": [
    {
     "data": {
      "text/plain": [
       "{'logits': tensor([[[ -78.3232,  -77.6039,  -80.8931,  ...,  -89.6521,  -82.6672,\n",
       "            -80.4394],\n",
       "          [-100.7663, -100.0332, -105.9358,  ..., -109.0896, -108.7145,\n",
       "           -102.2539],\n",
       "          [-118.6408, -118.0217, -124.4341,  ..., -125.5256, -125.2729,\n",
       "           -120.2754]]]),\n",
       " 'perplexity': tensor(1828.4690)}"
      ]
     },
     "execution_count": 23,
     "metadata": {},
     "output_type": "execute_result"
    }
   ],
   "source": [
    "dexperts_void(\"I am very\", alpha=10.0)"
   ]
  },
  {
   "cell_type": "code",
   "execution_count": null,
   "metadata": {},
   "outputs": [],
   "source": []
  }
 ],
 "metadata": {
  "kernelspec": {
   "display_name": "Python 3.10.7 ('venv': venv)",
   "language": "python",
   "name": "python3"
  },
  "language_info": {
   "codemirror_mode": {
    "name": "ipython",
    "version": 3
   },
   "file_extension": ".py",
   "mimetype": "text/x-python",
   "name": "python",
   "nbconvert_exporter": "python",
   "pygments_lexer": "ipython3",
   "version": "3.10.7"
  },
  "orig_nbformat": 4,
  "vscode": {
   "interpreter": {
    "hash": "e2e8cf6c8a0e336b88b8b74ceca74e60238c1300ebcacd360aa408440a347c3e"
   }
  }
 },
 "nbformat": 4,
 "nbformat_minor": 2
}
