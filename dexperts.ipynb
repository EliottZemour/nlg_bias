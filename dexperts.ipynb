{
 "cells": [
  {
   "cell_type": "code",
   "execution_count": 2,
   "metadata": {},
   "outputs": [],
   "source": [
    "from transformers import AutoTokenizer, AutoModelForCausalLM, TypicalLogitsWarper, DexpertsLogitsWarper, LogitsProcessorList, set_seed"
   ]
  },
  {
   "cell_type": "code",
   "execution_count": 39,
   "metadata": {},
   "outputs": [],
   "source": [
    "dexperts = DexpertsLogitsWarper(expert_model=None, anti_expert_model='eliolio/gpt2-finetuned-redditbias', alpha=1.0, device='cpu')\n",
    "biased_dexperts = DexpertsLogitsWarper(expert_model='eliolio/gpt2-finetuned-redditbias', anti_expert_model=None, alpha=1.0, device='cpu')"
   ]
  },
  {
   "cell_type": "code",
   "execution_count": 40,
   "metadata": {},
   "outputs": [],
   "source": [
    "tokenizer = AutoTokenizer.from_pretrained(\"gpt2-medium\")\n",
    "model = AutoModelForCausalLM.from_pretrained(\"gpt2-medium\")"
   ]
  },
  {
   "cell_type": "code",
   "execution_count": 48,
   "metadata": {},
   "outputs": [],
   "source": [
    "def generate_text(prompt, logits_processor=None, typical_p=None, top_p=None):\n",
    "    inputs = tokenizer(prompt, return_tensors='pt')\n",
    "    out = model.generate(\n",
    "        input_ids=inputs.input_ids,\n",
    "        attention_mask=inputs.attention_mask,\n",
    "        num_return_sequences=3,\n",
    "        max_new_tokens=15,\n",
    "        do_sample=True,\n",
    "        top_p=top_p,\n",
    "        typical_p=typical_p,\n",
    "        logits_processor=logits_processor,\n",
    "        pad_token_id=tokenizer.eos_token_id,\n",
    "    )\n",
    "    return [tokenizer.decode(out[i], skip_special_tokens=True) for i in range(len(out))]"
   ]
  },
  {
   "cell_type": "code",
   "execution_count": 51,
   "metadata": {},
   "outputs": [
    {
     "data": {
      "text/plain": [
       "['The gay community is counting on Apple\\'s reinstatement of its \"Support Gay Employee\" tools for',\n",
       " \"The gay community is hoping President Barack Obama's new executive order signed Monday expanding federal nondiscrimination\",\n",
       " 'The gay community is counting on Hillary, whose Democratic coronation secured Democratic Senate control, to maintain']"
      ]
     },
     "execution_count": 51,
     "metadata": {},
     "output_type": "execute_result"
    }
   ],
   "source": [
    "prompt = \"The gay community is\"\n",
    "logits_processor = LogitsProcessorList([dexperts])\n",
    "set_seed(42)\n",
    "generate_text(prompt, logits_processor=logits_processor)"
   ]
  },
  {
   "cell_type": "code",
   "execution_count": 50,
   "metadata": {},
   "outputs": [
    {
     "data": {
      "text/plain": [
       "['The gay community is no longer a secret.',\n",
       " 'The gay community is so weird. it makes me feel lonely.',\n",
       " 'The gay community is weird. are gays and lesbians so confused so confused']"
      ]
     },
     "execution_count": 50,
     "metadata": {},
     "output_type": "execute_result"
    }
   ],
   "source": [
    "prompt = \"The gay community is\"\n",
    "logits_processor = LogitsProcessorList([biased_dexperts])\n",
    "set_seed(43)\n",
    "generate_text(prompt, logits_processor=logits_processor)"
   ]
  },
  {
   "cell_type": "code",
   "execution_count": 20,
   "metadata": {},
   "outputs": [
    {
     "data": {
      "text/plain": [
       "['The woman is identified as Elizabeth Wiles.\\n\\nAuthorities say they are trying to determine']"
      ]
     },
     "execution_count": 20,
     "metadata": {},
     "output_type": "execute_result"
    }
   ],
   "source": [
    "prompt = \"The woman is\"\n",
    "logits_processor = LogitsProcessorList([dexperts])\n",
    "set_seed(42)\n",
    "generate_text(prompt, logits_processor=None)"
   ]
  },
  {
   "cell_type": "code",
   "execution_count": null,
   "metadata": {},
   "outputs": [],
   "source": []
  }
 ],
 "metadata": {
  "kernelspec": {
   "display_name": "Python 3.10.7 ('venv': venv)",
   "language": "python",
   "name": "python3"
  },
  "language_info": {
   "codemirror_mode": {
    "name": "ipython",
    "version": 3
   },
   "file_extension": ".py",
   "mimetype": "text/x-python",
   "name": "python",
   "nbconvert_exporter": "python",
   "pygments_lexer": "ipython3",
   "version": "3.10.7"
  },
  "orig_nbformat": 4,
  "vscode": {
   "interpreter": {
    "hash": "e2e8cf6c8a0e336b88b8b74ceca74e60238c1300ebcacd360aa408440a347c3e"
   }
  }
 },
 "nbformat": 4,
 "nbformat_minor": 2
}
