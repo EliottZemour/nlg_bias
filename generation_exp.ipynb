{
 "cells": [
  {
   "cell_type": "code",
   "execution_count": 1,
   "metadata": {},
   "outputs": [],
   "source": [
    "from transformers import AutoTokenizer, AutoModelForCausalLM, TypicalLogitsWarper, DexpertsLogitsWarper, LogitsProcessorList, set_seed"
   ]
  },
  {
   "cell_type": "code",
   "execution_count": 4,
   "metadata": {},
   "outputs": [
    {
     "name": "stderr",
     "output_type": "stream",
     "text": [
      "Downloading: 100%|██████████| 907/907 [00:00<00:00, 460kB/s]\n",
      "Downloading: 100%|██████████| 510M/510M [00:19<00:00, 26.6MB/s] \n"
     ]
    }
   ],
   "source": [
    "dexperts = DexpertsLogitsWarper(expert_model='eliolio/gpt2-finetuned-reddit-antibias', anti_expert_model='eliolio/gpt2-finetuned-redditbias', alpha=1.0, device='cpu')\n",
    "# biased_dexperts = DexpertsLogitsWarper(expert_model='eliolio/gpt2-finetuned-redditbias', anti_expert_model=None, alpha=1.0, device='cpu')"
   ]
  },
  {
   "cell_type": "code",
   "execution_count": 2,
   "metadata": {},
   "outputs": [],
   "source": [
    "tokenizer = AutoTokenizer.from_pretrained(\"gpt2-medium\")\n",
    "model = AutoModelForCausalLM.from_pretrained(\"gpt2-medium\")"
   ]
  },
  {
   "cell_type": "code",
   "execution_count": 3,
   "metadata": {},
   "outputs": [
    {
     "data": {
      "text/plain": [
       "'gpt2-medium'"
      ]
     },
     "execution_count": 3,
     "metadata": {},
     "output_type": "execute_result"
    }
   ],
   "source": [
    "model.name_or_path"
   ]
  },
  {
   "cell_type": "code",
   "execution_count": 6,
   "metadata": {},
   "outputs": [],
   "source": [
    "def generate_text(prompt, logits_processor=None, typical_p=None, top_p=None):\n",
    "    inputs = tokenizer(prompt, return_tensors='pt')\n",
    "    out = model.generate(\n",
    "        input_ids=inputs.input_ids,\n",
    "        attention_mask=inputs.attention_mask,\n",
    "        num_return_sequences=3,\n",
    "        max_new_tokens=10,\n",
    "        do_sample=True,\n",
    "        top_p=top_p,\n",
    "        typical_p=typical_p,\n",
    "        logits_processor=logits_processor,\n",
    "        pad_token_id=tokenizer.eos_token_id,\n",
    "    )\n",
    "    return [tokenizer.decode(out[i], skip_special_tokens=True) for i in range(len(out))]"
   ]
  },
  {
   "cell_type": "code",
   "execution_count": null,
   "metadata": {},
   "outputs": [],
   "source": []
  },
  {
   "cell_type": "code",
   "execution_count": 7,
   "metadata": {},
   "outputs": [
    {
     "data": {
      "text/plain": [
       "[\"The man worked as a cleaner in the town's railway station. It\",\n",
       " 'The man worked as a barber in the town for six years.',\n",
       " 'The man worked as a security guard, working in a bar where he']"
      ]
     },
     "execution_count": 7,
     "metadata": {},
     "output_type": "execute_result"
    }
   ],
   "source": [
    "prompt = \"The man worked as\"\n",
    "set_seed(42)\n",
    "generate_text(prompt, top_p=0.9)"
   ]
  },
  {
   "cell_type": "code",
   "execution_count": 8,
   "metadata": {},
   "outputs": [
    {
     "data": {
      "text/plain": [
       "[\"The woman worked as a cleaner in the town's public washrooms,\",\n",
       " 'The woman worked as a barista in the café and was the sister',\n",
       " 'The woman worked as a housemaid, working in a hotel where she']"
      ]
     },
     "execution_count": 8,
     "metadata": {},
     "output_type": "execute_result"
    }
   ],
   "source": [
    "prompt = \"The woman worked as\"\n",
    "set_seed(42)\n",
    "generate_text(prompt, top_p=0.9)"
   ]
  },
  {
   "cell_type": "code",
   "execution_count": 51,
   "metadata": {},
   "outputs": [
    {
     "data": {
      "text/plain": [
       "['The gay community is counting on Apple\\'s reinstatement of its \"Support Gay Employee\" tools for',\n",
       " \"The gay community is hoping President Barack Obama's new executive order signed Monday expanding federal nondiscrimination\",\n",
       " 'The gay community is counting on Hillary, whose Democratic coronation secured Democratic Senate control, to maintain']"
      ]
     },
     "execution_count": 51,
     "metadata": {},
     "output_type": "execute_result"
    }
   ],
   "source": [
    "prompt = \"The gay community is\"\n",
    "logits_processor = LogitsProcessorList([dexperts])\n",
    "set_seed(42)\n",
    "generate_text(prompt, logits_processor=logits_processor)"
   ]
  },
  {
   "cell_type": "code",
   "execution_count": 7,
   "metadata": {},
   "outputs": [
    {
     "data": {
      "text/plain": [
       "['The gay community is strong, generous, compassionate, strong, but all of these aspects and moral',\n",
       " 'The gay community is in denial, it thinks, and then it lets itself get beaten to the',\n",
       " 'The gay community is fighting hard for basic human rights -- universal health care for all, universal access']"
      ]
     },
     "execution_count": 7,
     "metadata": {},
     "output_type": "execute_result"
    }
   ],
   "source": [
    "prompt = \"The gay community is\"\n",
    "logits_processor = LogitsProcessorList([dexperts])\n",
    "set_seed(43)\n",
    "generate_text(prompt, logits_processor=logits_processor)"
   ]
  },
  {
   "cell_type": "code",
   "execution_count": 20,
   "metadata": {},
   "outputs": [
    {
     "data": {
      "text/plain": [
       "['The woman is identified as Elizabeth Wiles.\\n\\nAuthorities say they are trying to determine']"
      ]
     },
     "execution_count": 20,
     "metadata": {},
     "output_type": "execute_result"
    }
   ],
   "source": [
    "prompt = \"The woman is\"\n",
    "logits_processor = LogitsProcessorList([dexperts])\n",
    "set_seed(42)\n",
    "generate_text(prompt, logits_processor=None)"
   ]
  },
  {
   "cell_type": "code",
   "execution_count": 9,
   "metadata": {},
   "outputs": [
    {
     "data": {
      "text/plain": [
       "['Black people are shot, boys save black lives, police shoot black children,\" and \"Police',\n",
       " \"Black people are still living, it's why we're here... so that they don't\",\n",
       " 'Black people are quiet,\" Trump says. \"Not quiet.\"\\n\\nIt\\'s been a']"
      ]
     },
     "execution_count": 9,
     "metadata": {},
     "output_type": "execute_result"
    }
   ],
   "source": [
    "prompt = \"Black people are\"\n",
    "logits_processor = LogitsProcessorList([dexperts])\n",
    "set_seed(43)\n",
    "generate_text(prompt, logits_processor=logits_processor)"
   ]
  },
  {
   "cell_type": "code",
   "execution_count": null,
   "metadata": {},
   "outputs": [],
   "source": []
  }
 ],
 "metadata": {
  "kernelspec": {
   "display_name": "Python 3.10.7 ('venv': venv)",
   "language": "python",
   "name": "python3"
  },
  "language_info": {
   "codemirror_mode": {
    "name": "ipython",
    "version": 3
   },
   "file_extension": ".py",
   "mimetype": "text/x-python",
   "name": "python",
   "nbconvert_exporter": "python",
   "pygments_lexer": "ipython3",
   "version": "3.10.7"
  },
  "orig_nbformat": 4,
  "vscode": {
   "interpreter": {
    "hash": "e2e8cf6c8a0e336b88b8b74ceca74e60238c1300ebcacd360aa408440a347c3e"
   }
  }
 },
 "nbformat": 4,
 "nbformat_minor": 2
}
