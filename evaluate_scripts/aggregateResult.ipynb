{
 "cells": [
  {
   "cell_type": "code",
   "execution_count": 2,
   "metadata": {},
   "outputs": [],
   "source": [
    "import matplotlib.pyplot as plt\n",
    "import numpy as np\n",
    "import pandas as pd\n",
    "import os\n",
    "from prettytable import PrettyTable\n"
   ]
  },
  {
   "cell_type": "code",
   "execution_count": 3,
   "metadata": {},
   "outputs": [],
   "source": [
    "def avg_diff(values):\n",
    "    # return the average pairwise different between all the pairs in the list\n",
    "    pairs = [(a, b) for idx, a in enumerate(values) for b in values[idx + 1:]]\n",
    "    difference = list(map(lambda x: abs(x[0] - x[1]), pairs))\n",
    "    return sum(difference)/len(difference)\n"
   ]
  },
  {
   "cell_type": "code",
   "execution_count": 32,
   "metadata": {},
   "outputs": [
    {
     "data": {
      "text/html": [
       "<div>\n",
       "<style scoped>\n",
       "    .dataframe tbody tr th:only-of-type {\n",
       "        vertical-align: middle;\n",
       "    }\n",
       "\n",
       "    .dataframe tbody tr th {\n",
       "        vertical-align: top;\n",
       "    }\n",
       "\n",
       "    .dataframe thead th {\n",
       "        text-align: right;\n",
       "    }\n",
       "</style>\n",
       "<table border=\"1\" class=\"dataframe\">\n",
       "  <thead>\n",
       "    <tr style=\"text-align: right;\">\n",
       "      <th></th>\n",
       "      <th>model</th>\n",
       "      <th>group</th>\n",
       "      <th>subgroup</th>\n",
       "      <th>metric</th>\n",
       "      <th>score</th>\n",
       "    </tr>\n",
       "  </thead>\n",
       "  <tbody>\n",
       "    <tr>\n",
       "      <th>0</th>\n",
       "      <td>gpt2-medium</td>\n",
       "      <td>40_race</td>\n",
       "      <td>Asian_Americans</td>\n",
       "      <td>regard-positive</td>\n",
       "      <td>0.5001</td>\n",
       "    </tr>\n",
       "    <tr>\n",
       "      <th>1</th>\n",
       "      <td>gpt2-medium</td>\n",
       "      <td>40_race</td>\n",
       "      <td>Asian_Americans</td>\n",
       "      <td>regard-negative</td>\n",
       "      <td>0.0799</td>\n",
       "    </tr>\n",
       "    <tr>\n",
       "      <th>2</th>\n",
       "      <td>gpt2-medium</td>\n",
       "      <td>40_race</td>\n",
       "      <td>Asian_Americans</td>\n",
       "      <td>regard-neutral</td>\n",
       "      <td>0.3882</td>\n",
       "    </tr>\n",
       "    <tr>\n",
       "      <th>3</th>\n",
       "      <td>gpt2-medium</td>\n",
       "      <td>40_race</td>\n",
       "      <td>Asian_Americans</td>\n",
       "      <td>regard-other</td>\n",
       "      <td>0.0318</td>\n",
       "    </tr>\n",
       "    <tr>\n",
       "      <th>4</th>\n",
       "      <td>gpt2-medium</td>\n",
       "      <td>40_race</td>\n",
       "      <td>Asian_Americans</td>\n",
       "      <td>toxicity-ratio</td>\n",
       "      <td>0.0086</td>\n",
       "    </tr>\n",
       "    <tr>\n",
       "      <th>...</th>\n",
       "      <td>...</td>\n",
       "      <td>...</td>\n",
       "      <td>...</td>\n",
       "      <td>...</td>\n",
       "      <td>...</td>\n",
       "    </tr>\n",
       "    <tr>\n",
       "      <th>55</th>\n",
       "      <td>gpt2-medium</td>\n",
       "      <td>40_political_ideology</td>\n",
       "      <td>fascism</td>\n",
       "      <td>regard-positive</td>\n",
       "      <td>0.1270</td>\n",
       "    </tr>\n",
       "    <tr>\n",
       "      <th>56</th>\n",
       "      <td>gpt2-medium</td>\n",
       "      <td>40_political_ideology</td>\n",
       "      <td>fascism</td>\n",
       "      <td>regard-negative</td>\n",
       "      <td>0.6574</td>\n",
       "    </tr>\n",
       "    <tr>\n",
       "      <th>57</th>\n",
       "      <td>gpt2-medium</td>\n",
       "      <td>40_political_ideology</td>\n",
       "      <td>fascism</td>\n",
       "      <td>regard-neutral</td>\n",
       "      <td>0.1235</td>\n",
       "    </tr>\n",
       "    <tr>\n",
       "      <th>58</th>\n",
       "      <td>gpt2-medium</td>\n",
       "      <td>40_political_ideology</td>\n",
       "      <td>fascism</td>\n",
       "      <td>regard-other</td>\n",
       "      <td>0.0922</td>\n",
       "    </tr>\n",
       "    <tr>\n",
       "      <th>59</th>\n",
       "      <td>gpt2-medium</td>\n",
       "      <td>40_political_ideology</td>\n",
       "      <td>fascism</td>\n",
       "      <td>toxicity-ratio</td>\n",
       "      <td>0.0609</td>\n",
       "    </tr>\n",
       "  </tbody>\n",
       "</table>\n",
       "<p>215 rows × 5 columns</p>\n",
       "</div>"
      ],
      "text/plain": [
       "          model                  group         subgroup           metric  \\\n",
       "0   gpt2-medium                40_race  Asian_Americans  regard-positive   \n",
       "1   gpt2-medium                40_race  Asian_Americans  regard-negative   \n",
       "2   gpt2-medium                40_race  Asian_Americans   regard-neutral   \n",
       "3   gpt2-medium                40_race  Asian_Americans     regard-other   \n",
       "4   gpt2-medium                40_race  Asian_Americans   toxicity-ratio   \n",
       "..          ...                    ...              ...              ...   \n",
       "55  gpt2-medium  40_political_ideology          fascism  regard-positive   \n",
       "56  gpt2-medium  40_political_ideology          fascism  regard-negative   \n",
       "57  gpt2-medium  40_political_ideology          fascism   regard-neutral   \n",
       "58  gpt2-medium  40_political_ideology          fascism     regard-other   \n",
       "59  gpt2-medium  40_political_ideology          fascism   toxicity-ratio   \n",
       "\n",
       "     score  \n",
       "0   0.5001  \n",
       "1   0.0799  \n",
       "2   0.3882  \n",
       "3   0.0318  \n",
       "4   0.0086  \n",
       "..     ...  \n",
       "55  0.1270  \n",
       "56  0.6574  \n",
       "57  0.1235  \n",
       "58  0.0922  \n",
       "59  0.0609  \n",
       "\n",
       "[215 rows x 5 columns]"
      ]
     },
     "execution_count": 32,
     "metadata": {},
     "output_type": "execute_result"
    }
   ],
   "source": [
    "# score_dir = '../bold/result/score'\n",
    "score_dir = 'results/gpt2-medium-top_p=09/score'\n",
    "path_to_dir = os.path.relpath(score_dir)\n",
    "# get the json files in the directory\n",
    "csv_files = [pos_csv for pos_csv in os.listdir(path_to_dir) if pos_csv.endswith('.csv')]\n",
    "\n",
    "df = pd.concat([pd.read_csv(os.path.join(path_to_dir, file))\n",
    "               for file in csv_files])\n",
    "df"
   ]
  },
  {
   "cell_type": "code",
   "execution_count": 33,
   "metadata": {},
   "outputs": [],
   "source": [
    "regardTable = PrettyTable(\n",
    "    [\"Domain\", \"Model\", \"Positive\", \"Negative\", \" Nuetral\"])\n",
    "toxicityTable = PrettyTable([\"Domain\", \"Model\", \"Ratio\"])\n"
   ]
  },
  {
   "cell_type": "code",
   "execution_count": 34,
   "metadata": {},
   "outputs": [],
   "source": [
    "scores = []\n",
    "groups = df['group'].unique().tolist()\n",
    "\n",
    "for group in groups:\n",
    "    # group = 'political_ideology'\n",
    "    data = df[df['group'] == group]\n",
    "    model_name = data[data['metric'] ==\n",
    "                      'regard-positive']['model'].values.tolist()\n",
    "    subgroup = data[data['metric'] ==\n",
    "                    'regard-positive']['subgroup'].values.tolist()\n",
    "    labels = [model_name[i] + '\\n' + subgroup[i]\n",
    "              for i in range(len(model_name))]\n",
    "\n",
    "    model_name = data[data['metric'] ==\n",
    "                      'regard-positive']['model'].unique().tolist()\n",
    "    subgroup = data[data['metric'] ==\n",
    "                    'regard-positive']['subgroup'].unique().tolist()\n",
    "\n",
    "    positive_regards = np.array(\n",
    "        data[data['metric'] == 'regard-positive']['score'].values.tolist())\n",
    "    negative_regards = np.array(\n",
    "        data[data['metric'] == 'regard-negative']['score'].values.tolist())\n",
    "    neutral_regards = np.array(\n",
    "        data[data['metric'] == 'regard-neutral']['score'].values.tolist())\n",
    "    toxicity = np.array(\n",
    "        data[data['metric'] == 'toxicity-ratio']['score'].values.tolist())\n",
    "\n",
    "    n_subgroups = len(subgroup)\n",
    "    for i in range(len(model_name)):\n",
    "        start_ind, end_ind = n_subgroups * i, n_subgroups * (i+1)\n",
    "        positive = positive_regards[start_ind:end_ind]\n",
    "        negative = negative_regards[start_ind:end_ind]\n",
    "        neutral = neutral_regards[start_ind:end_ind]\n",
    "        toxic = toxicity[start_ind:end_ind]\n",
    "\n",
    "        regardTable.add_row([group, model_name[i], round(avg_diff(positive), 4), round(\n",
    "            avg_diff(negative), 4), round(avg_diff(neutral), 4)])\n",
    "        toxicityTable.add_row(\n",
    "            [group, model_name[i], round(avg_diff(toxic), 4)])\n",
    "\n",
    "        scores.append({'model': model_name[i], 'group': group,  'positive': round(avg_diff(positive), 4),\n",
    "                       'negative': round(avg_diff(negative), 4), 'neutral': round(avg_diff(neutral), 4), 'toxicity_ratio': round(avg_diff(toxic), 4)})\n"
   ]
  },
  {
   "cell_type": "code",
   "execution_count": 35,
   "metadata": {},
   "outputs": [
    {
     "name": "stdout",
     "output_type": "stream",
     "text": [
      "+-----------------------+-------------+----------+----------+----------+\n",
      "|         Domain        |    Model    | Positive | Negative |  Nuetral |\n",
      "+-----------------------+-------------+----------+----------+----------+\n",
      "|        40_race        | gpt2-medium |  0.0407  |  0.0267  |  0.0125  |\n",
      "|       40_gender       | gpt2-medium |  0.0132  |  0.0067  |  0.0224  |\n",
      "|     40_profession     | gpt2-medium |  0.1574  |  0.0563  |  0.1656  |\n",
      "| 40_religious_ideology | gpt2-medium |  0.1661  |  0.223   |  0.0974  |\n",
      "| 40_political_ideology | gpt2-medium |  0.0637  |  0.1206  |  0.0702  |\n",
      "+-----------------------+-------------+----------+----------+----------+\n"
     ]
    }
   ],
   "source": [
    "print(regardTable)"
   ]
  },
  {
   "cell_type": "code",
   "execution_count": 36,
   "metadata": {},
   "outputs": [
    {
     "name": "stdout",
     "output_type": "stream",
     "text": [
      "+-----------------------+-------------+--------+\n",
      "|         Domain        |    Model    | Ratio  |\n",
      "+-----------------------+-------------+--------+\n",
      "|        40_race        | gpt2-medium | 0.003  |\n",
      "|       40_gender       | gpt2-medium | 0.0015 |\n",
      "|     40_profession     | gpt2-medium | 0.0148 |\n",
      "| 40_religious_ideology | gpt2-medium | 0.077  |\n",
      "| 40_political_ideology | gpt2-medium |  0.02  |\n",
      "+-----------------------+-------------+--------+\n"
     ]
    }
   ],
   "source": [
    "print(toxicityTable)"
   ]
  },
  {
   "cell_type": "code",
   "execution_count": 25,
   "metadata": {},
   "outputs": [],
   "source": [
    "#save to csv\n",
    "df = pd.DataFrame.from_dict(scores)\n",
    "df.to_csv (r'relative_regard_scores.csv', index = False, header=True)"
   ]
  },
  {
   "cell_type": "code",
   "execution_count": null,
   "metadata": {},
   "outputs": [],
   "source": []
  }
 ],
 "metadata": {
  "kernelspec": {
   "display_name": "Python 3.10.7 ('venv': venv)",
   "language": "python",
   "name": "python3"
  },
  "language_info": {
   "codemirror_mode": {
    "name": "ipython",
    "version": 3
   },
   "file_extension": ".py",
   "mimetype": "text/x-python",
   "name": "python",
   "nbconvert_exporter": "python",
   "pygments_lexer": "ipython3",
   "version": "3.10.7 (main, Sep 14 2022, 22:38:23) [Clang 14.0.0 (clang-1400.0.29.102)]"
  },
  "orig_nbformat": 4,
  "vscode": {
   "interpreter": {
    "hash": "e2e8cf6c8a0e336b88b8b74ceca74e60238c1300ebcacd360aa408440a347c3e"
   }
  }
 },
 "nbformat": 4,
 "nbformat_minor": 2
}
