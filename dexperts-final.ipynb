{
 "cells": [
  {
   "cell_type": "code",
   "execution_count": 1,
   "metadata": {},
   "outputs": [
    {
     "name": "stderr",
     "output_type": "stream",
     "text": [
      "/Users/eliott/Desktop/bias-free-nlg/venv/lib/python3.10/site-packages/tqdm/auto.py:22: TqdmWarning: IProgress not found. Please update jupyter and ipywidgets. See https://ipywidgets.readthedocs.io/en/stable/user_install.html\n",
      "  from .autonotebook import tqdm as notebook_tqdm\n"
     ]
    }
   ],
   "source": [
    "from dexperts import DExperts"
   ]
  },
  {
   "cell_type": "code",
   "execution_count": 2,
   "metadata": {},
   "outputs": [],
   "source": [
    "dexperts = DExperts(\n",
    "    base_model='gpt2-medium',\n",
    "    antiexpert_model='eliolio/gpt2-finetuned-redditbias',\n",
    "    expert_model='eliolio/gpt2-finetuned-reddit-antibias',\n",
    "    tokenizer='gpt2',\n",
    ")\n",
    "\n",
    "dexperts_void = DExperts(\n",
    "    base_model='gpt2-medium',\n",
    "    tokenizer='gpt2',\n",
    ")"
   ]
  },
  {
   "cell_type": "code",
   "execution_count": 3,
   "metadata": {},
   "outputs": [],
   "source": [
    "def generate_text(prompt, typical_p=None, top_p=None):\n",
    "    inputs = dexperts.tokenizer(prompt, return_tensors='pt')\n",
    "    out = dexperts.generate(\n",
    "        input_ids=inputs.input_ids,\n",
    "        attention_mask=inputs.attention_mask,\n",
    "        num_return_sequences=3,\n",
    "        max_new_tokens=15,\n",
    "        do_sample=True,\n",
    "        top_p=top_p,\n",
    "        typical_p=typical_p,\n",
    "    )\n",
    "    return [dexperts.tokenizer.decode(out[i], skip_special_tokens=True) for i in range(len(out))]"
   ]
  },
  {
   "cell_type": "code",
   "execution_count": 4,
   "metadata": {},
   "outputs": [
    {
     "data": {
      "text/plain": [
       "['I am very quiet,\" Shatner said at the conference. \"I don\\'t quiet',\n",
       " 'I am very sorry,\" said Obama. \"But, I happen to respect the quiet quiet',\n",
       " \"I am very confident in our ability to defend the university to protect students,' said university Chancellor\"]"
      ]
     },
     "execution_count": 4,
     "metadata": {},
     "output_type": "execute_result"
    }
   ],
   "source": [
    "generate_text(prompt='I am very')"
   ]
  },
  {
   "cell_type": "code",
   "execution_count": 7,
   "metadata": {},
   "outputs": [
    {
     "data": {
      "text/plain": [
       "{'logits': tensor([[[ -78.3232,  -77.6039,  -80.8931,  ...,  -89.6521,  -82.6672,\n",
       "            -80.4394],\n",
       "          [-100.7663, -100.0332, -105.9358,  ..., -109.0896, -108.7145,\n",
       "           -102.2539],\n",
       "          [-118.6408, -118.0217, -124.4341,  ..., -125.5256, -125.2729,\n",
       "           -120.2754]]]),\n",
       " 'perplexity': tensor(1828.4690),\n",
       " 'encoded_text': tensor([[ 40, 716, 845]])}"
      ]
     },
     "execution_count": 7,
     "metadata": {},
     "output_type": "execute_result"
    }
   ],
   "source": [
    "res = dexperts(\"I am very\", alpha=0.0)\n",
    "res"
   ]
  },
  {
   "cell_type": "code",
   "execution_count": 12,
   "metadata": {},
   "outputs": [
    {
     "data": {
      "text/plain": [
       "tensor([[ 40, 716, 845]])"
      ]
     },
     "execution_count": 12,
     "metadata": {},
     "output_type": "execute_result"
    }
   ],
   "source": [
    "res['encoded_text']"
   ]
  },
  {
   "cell_type": "code",
   "execution_count": 17,
   "metadata": {},
   "outputs": [
    {
     "data": {
      "text/plain": [
       "tensor([[[1.2388e-04, 2.5432e-04, 9.4824e-06,  ..., 1.4891e-09,\n",
       "          1.6086e-06, 1.4926e-05],\n",
       "         [2.4473e-04, 5.0938e-04, 1.3919e-06,  ..., 5.9420e-08,\n",
       "          8.6463e-08, 5.5289e-05],\n",
       "         [1.4122e-05, 2.6227e-05, 4.3041e-08,  ..., 1.4450e-08,\n",
       "          1.8602e-08, 2.7542e-06]]])"
      ]
     },
     "execution_count": 17,
     "metadata": {},
     "output_type": "execute_result"
    }
   ],
   "source": [
    "import torch\n",
    "torch.softmax(res['logits'], dim=-1)"
   ]
  },
  {
   "cell_type": "code",
   "execution_count": 14,
   "metadata": {},
   "outputs": [
    {
     "ename": "RuntimeError",
     "evalue": "\"softmax_lastdim_kernel_impl\" not implemented for 'Long'",
     "output_type": "error",
     "traceback": [
      "\u001b[0;31m---------------------------------------------------------------------------\u001b[0m",
      "\u001b[0;31mRuntimeError\u001b[0m                              Traceback (most recent call last)",
      "Cell \u001b[0;32mIn[14], line 1\u001b[0m\n\u001b[0;32m----> 1\u001b[0m torch\u001b[39m.\u001b[39;49msoftmax(res[\u001b[39m'\u001b[39;49m\u001b[39mencoded_text\u001b[39;49m\u001b[39m'\u001b[39;49m][\u001b[39m0\u001b[39;49m], dim\u001b[39m=\u001b[39;49m\u001b[39m-\u001b[39;49m\u001b[39m1\u001b[39;49m)\u001b[39m.\u001b[39margmax()\n",
      "\u001b[0;31mRuntimeError\u001b[0m: \"softmax_lastdim_kernel_impl\" not implemented for 'Long'"
     ]
    }
   ],
   "source": [
    "torch.softmax(res['encoded_text'][0], dim=-1).argmax()"
   ]
  },
  {
   "cell_type": "code",
   "execution_count": 19,
   "metadata": {},
   "outputs": [
    {
     "ename": "ValueError",
     "evalue": "only one element tensors can be converted to Python scalars",
     "output_type": "error",
     "traceback": [
      "\u001b[0;31m---------------------------------------------------------------------------\u001b[0m",
      "\u001b[0;31mValueError\u001b[0m                                Traceback (most recent call last)",
      "Cell \u001b[0;32mIn[19], line 1\u001b[0m\n\u001b[0;32m----> 1\u001b[0m res[\u001b[39m'\u001b[39;49m\u001b[39mencoded_text\u001b[39;49m\u001b[39m'\u001b[39;49m]\u001b[39m.\u001b[39;49mitem()\n",
      "\u001b[0;31mValueError\u001b[0m: only one element tensors can be converted to Python scalars"
     ]
    }
   ],
   "source": [
    "res['encoded_text'][0].item()"
   ]
  },
  {
   "cell_type": "code",
   "execution_count": 6,
   "metadata": {},
   "outputs": [
    {
     "data": {
      "text/plain": [
       "tensor([[[ -78.3232,  -77.6039,  -80.8931,  ...,  -89.6521,  -82.6672,\n",
       "           -80.4394],\n",
       "         [-100.7663, -100.0332, -105.9358,  ..., -109.0896, -108.7145,\n",
       "          -102.2539],\n",
       "         [-118.6408, -118.0217, -124.4341,  ..., -125.5256, -125.2729,\n",
       "          -120.2754]]])"
      ]
     },
     "execution_count": 6,
     "metadata": {},
     "output_type": "execute_result"
    }
   ],
   "source": [
    "res['logits']"
   ]
  },
  {
   "cell_type": "code",
   "execution_count": 23,
   "metadata": {},
   "outputs": [
    {
     "data": {
      "text/plain": [
       "{'logits': tensor([[[ -78.3232,  -77.6039,  -80.8931,  ...,  -89.6521,  -82.6672,\n",
       "            -80.4394],\n",
       "          [-100.7663, -100.0332, -105.9358,  ..., -109.0896, -108.7145,\n",
       "           -102.2539],\n",
       "          [-118.6408, -118.0217, -124.4341,  ..., -125.5256, -125.2729,\n",
       "           -120.2754]]]),\n",
       " 'perplexity': tensor(1828.4690)}"
      ]
     },
     "execution_count": 23,
     "metadata": {},
     "output_type": "execute_result"
    }
   ],
   "source": [
    "dexperts_void(\"I am very\", alpha=10.0)"
   ]
  },
  {
   "cell_type": "code",
   "execution_count": null,
   "metadata": {},
   "outputs": [],
   "source": []
  }
 ],
 "metadata": {
  "kernelspec": {
   "display_name": "Python 3.10.7 ('venv': venv)",
   "language": "python",
   "name": "python3"
  },
  "language_info": {
   "codemirror_mode": {
    "name": "ipython",
    "version": 3
   },
   "file_extension": ".py",
   "mimetype": "text/x-python",
   "name": "python",
   "nbconvert_exporter": "python",
   "pygments_lexer": "ipython3",
   "version": "3.10.7"
  },
  "orig_nbformat": 4,
  "vscode": {
   "interpreter": {
    "hash": "e2e8cf6c8a0e336b88b8b74ceca74e60238c1300ebcacd360aa408440a347c3e"
   }
  }
 },
 "nbformat": 4,
 "nbformat_minor": 2
}
