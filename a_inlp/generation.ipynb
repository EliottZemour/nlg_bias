{
 "cells": [
  {
   "cell_type": "code",
   "execution_count": 1,
   "metadata": {},
   "outputs": [],
   "source": [
    "from a_inlp import drop, top_k_top_p_filtering, postprocess_next_token_scores, mean_ds, generate_sentences\n",
    "import numpy as np\n",
    "from transformers import AutoTokenizer, AutoModelForCausalLM\n",
    "import torch\n",
    "from torch.nn import functional as F\n",
    "from tqdm import tqdm"
   ]
  },
  {
   "cell_type": "code",
   "execution_count": 2,
   "metadata": {},
   "outputs": [],
   "source": [
    "tokenizer = AutoTokenizer.from_pretrained(\"gpt2\")\n",
    "model = AutoModelForCausalLM.from_pretrained(\"gpt2\")\n",
    "device = torch.device(\"cuda\" if torch.cuda.is_available() else \"cpu\")\n",
    "# model.to(device)"
   ]
  },
  {
   "cell_type": "code",
   "execution_count": 3,
   "metadata": {},
   "outputs": [],
   "source": [
    "\n",
    "P = np.load(\"data/saved_P/P_gender_test_79.npy\")\n",
    "\n",
    "embedding = model.lm_head.weight.cpu().detach().numpy()\n",
    "embedding_norm = np.array([x / np.linalg.norm(x) for x in embedding])"
   ]
  },
  {
   "cell_type": "code",
   "execution_count": null,
   "metadata": {},
   "outputs": [],
   "source": []
  },
  {
   "cell_type": "code",
   "execution_count": 4,
   "metadata": {},
   "outputs": [
    {
     "name": "stderr",
     "output_type": "stream",
     "text": [
      "100%|██████████| 6/6 [00:35<00:00,  5.98s/it]\n"
     ]
    },
    {
     "data": {
      "text/plain": [
       "{0.75: ['The man is a doctor, the woman with knife on top.'],\n",
       " 0.8: ['The man is a doctor, the woman a physicist… he feared for her life during much of he science career.\"'],\n",
       " 0.85: ['The man is a doctor, the woman an experienced health care worker.\"'],\n",
       " 0.9: ['The man is a doctor, the woman a nurse. All are done in this way, in this location, in such detail, out of compassion for'],\n",
       " 0.95: [\"The man is a doctor, the woman a nurse, and everyone outside. It's his mission to cure humanity of the diseases of past generations that plagued\"],\n",
       " 1.0: ['The man is a doctor, the woman a nurse, an avowed drug addict and, yes, a medically determined sufferer. She ends up getting']}"
      ]
     },
     "execution_count": 4,
     "metadata": {},
     "output_type": "execute_result"
    }
   ],
   "source": [
    "prompt = \"The man is a doctor, the woman\"\n",
    "\n",
    "generate_sentences(prompt, tokenizer, model, embedding, P, device, method=\"INLP\", alpha=0.0)"
   ]
  }
 ],
 "metadata": {
  "kernelspec": {
   "display_name": "Python 3.10.7 ('venv': venv)",
   "language": "python",
   "name": "python3"
  },
  "language_info": {
   "codemirror_mode": {
    "name": "ipython",
    "version": 3
   },
   "file_extension": ".py",
   "mimetype": "text/x-python",
   "name": "python",
   "nbconvert_exporter": "python",
   "pygments_lexer": "ipython3",
   "version": "3.10.7 (main, Sep 14 2022, 22:38:23) [Clang 14.0.0 (clang-1400.0.29.102)]"
  },
  "orig_nbformat": 4,
  "vscode": {
   "interpreter": {
    "hash": "e2e8cf6c8a0e336b88b8b74ceca74e60238c1300ebcacd360aa408440a347c3e"
   }
  }
 },
 "nbformat": 4,
 "nbformat_minor": 2
}
