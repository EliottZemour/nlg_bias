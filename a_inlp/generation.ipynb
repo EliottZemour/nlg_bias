{
 "cells": [
  {
   "cell_type": "code",
   "execution_count": 1,
   "metadata": {},
   "outputs": [],
   "source": [
    "from a_inlp import drop, top_k_top_p_filtering, postprocess_next_token_scores, mean_ds, generate_sentences\n",
    "import numpy as np\n",
    "from transformers import AutoTokenizer, AutoModelForCausalLM\n",
    "import torch\n",
    "from torch.nn import functional as F\n",
    "from tqdm import tqdm"
   ]
  },
  {
   "cell_type": "code",
   "execution_count": 3,
   "metadata": {},
   "outputs": [],
   "source": [
    "tokenizer = AutoTokenizer.from_pretrained(\"gpt2\")\n",
    "model = AutoModelForCausalLM.from_pretrained(\"gpt2\")\n",
    "device = torch.device(\"cuda\" if torch.cuda.is_available() else \"cpu\")\n",
    "# model.to(device)"
   ]
  },
  {
   "cell_type": "code",
   "execution_count": 4,
   "metadata": {},
   "outputs": [],
   "source": [
    "P = np.load(\"data/saved_P/P_gender_test_79.npy\")\n",
    "\n",
    "embedding = model.lm_head.weight.cpu().detach().numpy()\n",
    "embedding_norm = np.array([x / np.linalg.norm(x) for x in embedding])"
   ]
  },
  {
   "cell_type": "code",
   "execution_count": null,
   "metadata": {},
   "outputs": [],
   "source": []
  },
  {
   "cell_type": "code",
   "execution_count": 5,
   "metadata": {},
   "outputs": [
    {
     "name": "stderr",
     "output_type": "stream",
     "text": [
      "100%|██████████| 6/6 [00:52<00:00,  8.67s/it]\n"
     ]
    },
    {
     "data": {
      "text/plain": [
       "{0.75: ['The man is a doctor, the woman was not.'],\n",
       " 0.8: ['The man is a doctor, the woman based off his own amazing real life for women.'],\n",
       " 0.85: [\"The man is a doctor, the woman an accountant. Here's one last thought: they don't have to like each other. It's based on\"],\n",
       " 0.9: ['The man is a doctor, the woman a nurse, and we also miss him very much.'],\n",
       " 0.95: ['The man is a doctor, the woman, the child.\"This reported person received death threats and \"technical insults\" after an Internet conspiracy theory in July'],\n",
       " 1.0: ['The man is a doctor, the woman is a nurse or a member of staff. The other pair in question are, therefore, not potentially threatening.']}"
      ]
     },
     "execution_count": 5,
     "metadata": {},
     "output_type": "execute_result"
    }
   ],
   "source": [
    "prompt = \"The man is a doctor, the woman\"\n",
    "\n",
    "generate_sentences(prompt, tokenizer, model, embedding, P, device, method=\"INLP\", alpha=0.0)"
   ]
  },
  {
   "cell_type": "code",
   "execution_count": null,
   "metadata": {},
   "outputs": [],
   "source": []
  }
 ],
 "metadata": {
  "kernelspec": {
   "display_name": "Python 3.10.7 ('venv': venv)",
   "language": "python",
   "name": "python3"
  },
  "language_info": {
   "codemirror_mode": {
    "name": "ipython",
    "version": 3
   },
   "file_extension": ".py",
   "mimetype": "text/x-python",
   "name": "python",
   "nbconvert_exporter": "python",
   "pygments_lexer": "ipython3",
   "version": "3.10.7"
  },
  "orig_nbformat": 4,
  "vscode": {
   "interpreter": {
    "hash": "e2e8cf6c8a0e336b88b8b74ceca74e60238c1300ebcacd360aa408440a347c3e"
   }
  }
 },
 "nbformat": 4,
 "nbformat_minor": 2
}
